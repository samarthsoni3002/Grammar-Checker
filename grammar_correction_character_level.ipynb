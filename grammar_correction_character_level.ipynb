{
  "nbformat": 4,
  "nbformat_minor": 0,
  "metadata": {
    "colab": {
      "provenance": [],
      "gpuType": "T4"
    },
    "kernelspec": {
      "name": "python3",
      "display_name": "Python 3"
    },
    "language_info": {
      "name": "python"
    },
    "accelerator": "GPU"
  },
  "cells": [
    {
      "cell_type": "code",
      "source": [
        "from google.colab import drive\n",
        "drive.mount('/content/drive')"
      ],
      "metadata": {
        "colab": {
          "base_uri": "https://localhost:8080/"
        },
        "id": "B0gArMxxxjc0",
        "outputId": "b1e8e871-6fa5-4e2b-dad3-3d573a95f0b6"
      },
      "execution_count": 1,
      "outputs": [
        {
          "output_type": "stream",
          "name": "stdout",
          "text": [
            "Mounted at /content/drive\n"
          ]
        }
      ]
    },
    {
      "cell_type": "code",
      "execution_count": 2,
      "metadata": {
        "id": "lSt2UN3nP2KY"
      },
      "outputs": [],
      "source": [
        "import pandas as pd\n",
        "import re\n",
        "import numpy as np\n",
        "import matplotlib.pyplot as plt\n",
        "from sklearn.model_selection import train_test_split\n",
        "\n",
        "import tensorflow as tf\n",
        "from tensorflow.keras.preprocessing.text import Tokenizer\n",
        "from tensorflow.keras.preprocessing.sequence import pad_sequences\n",
        "from tensorflow.keras.models import Model\n",
        "from tensorflow.keras.layers import LSTM,Bidirectional,Embedding,Input,Dense"
      ]
    },
    {
      "cell_type": "code",
      "source": [
        "gpus = tf.config.experimental.list_physical_devices(\"GPU\")\n",
        "for gpu in gpus:\n",
        "  tf.config.experimental.set_memory_growth(gpu,True)"
      ],
      "metadata": {
        "id": "f4N8ob3zSdU4"
      },
      "execution_count": 3,
      "outputs": []
    },
    {
      "cell_type": "code",
      "source": [
        "df = pd.read_csv(\"drive/MyDrive/Grammar/test_dataset_csv\")"
      ],
      "metadata": {
        "id": "ooAyhQXESecg"
      },
      "execution_count": 4,
      "outputs": []
    },
    {
      "cell_type": "code",
      "source": [
        "df.head()"
      ],
      "metadata": {
        "colab": {
          "base_uri": "https://localhost:8080/",
          "height": 206
        },
        "id": "VSs8mCvVSkEZ",
        "outputId": "cd46783f-a8a5-4ab1-ea16-0d87b1de8eea"
      },
      "execution_count": 5,
      "outputs": [
        {
          "output_type": "execute_result",
          "data": {
            "text/plain": [
              "                                           incorrect  \\\n",
              "0  Bitcoin is for $7,094 this morning, which Coin...   \n",
              "1  The effect of widespread dud targets two face ...   \n",
              "2  tax on sales of stores for non residents are s...   \n",
              "3  Much many brands and sellers still in the market.   \n",
              "4  this is is the latest Maintenance release of S...   \n",
              "\n",
              "                                             correct  \n",
              "0  Bitcoin goes for $7,094 this morning, accordin...  \n",
              "1  1. The effect of \"widespread dud\" targets two ...  \n",
              "2  Capital Gains tax on the sale of properties fo...  \n",
              "3       Many brands and sellers still in the market.  \n",
              "4  This is is the latest maintenance release of S...  "
            ],
            "text/html": [
              "\n",
              "  <div id=\"df-32f721b1-ae4c-4b5c-ace1-aa6a4df25f2b\" class=\"colab-df-container\">\n",
              "    <div>\n",
              "<style scoped>\n",
              "    .dataframe tbody tr th:only-of-type {\n",
              "        vertical-align: middle;\n",
              "    }\n",
              "\n",
              "    .dataframe tbody tr th {\n",
              "        vertical-align: top;\n",
              "    }\n",
              "\n",
              "    .dataframe thead th {\n",
              "        text-align: right;\n",
              "    }\n",
              "</style>\n",
              "<table border=\"1\" class=\"dataframe\">\n",
              "  <thead>\n",
              "    <tr style=\"text-align: right;\">\n",
              "      <th></th>\n",
              "      <th>incorrect</th>\n",
              "      <th>correct</th>\n",
              "    </tr>\n",
              "  </thead>\n",
              "  <tbody>\n",
              "    <tr>\n",
              "      <th>0</th>\n",
              "      <td>Bitcoin is for $7,094 this morning, which Coin...</td>\n",
              "      <td>Bitcoin goes for $7,094 this morning, accordin...</td>\n",
              "    </tr>\n",
              "    <tr>\n",
              "      <th>1</th>\n",
              "      <td>The effect of widespread dud targets two face ...</td>\n",
              "      <td>1. The effect of \"widespread dud\" targets two ...</td>\n",
              "    </tr>\n",
              "    <tr>\n",
              "      <th>2</th>\n",
              "      <td>tax on sales of stores for non residents are s...</td>\n",
              "      <td>Capital Gains tax on the sale of properties fo...</td>\n",
              "    </tr>\n",
              "    <tr>\n",
              "      <th>3</th>\n",
              "      <td>Much many brands and sellers still in the market.</td>\n",
              "      <td>Many brands and sellers still in the market.</td>\n",
              "    </tr>\n",
              "    <tr>\n",
              "      <th>4</th>\n",
              "      <td>this is is the latest Maintenance release of S...</td>\n",
              "      <td>This is is the latest maintenance release of S...</td>\n",
              "    </tr>\n",
              "  </tbody>\n",
              "</table>\n",
              "</div>\n",
              "    <div class=\"colab-df-buttons\">\n",
              "\n",
              "  <div class=\"colab-df-container\">\n",
              "    <button class=\"colab-df-convert\" onclick=\"convertToInteractive('df-32f721b1-ae4c-4b5c-ace1-aa6a4df25f2b')\"\n",
              "            title=\"Convert this dataframe to an interactive table.\"\n",
              "            style=\"display:none;\">\n",
              "\n",
              "  <svg xmlns=\"http://www.w3.org/2000/svg\" height=\"24px\" viewBox=\"0 -960 960 960\">\n",
              "    <path d=\"M120-120v-720h720v720H120Zm60-500h600v-160H180v160Zm220 220h160v-160H400v160Zm0 220h160v-160H400v160ZM180-400h160v-160H180v160Zm440 0h160v-160H620v160ZM180-180h160v-160H180v160Zm440 0h160v-160H620v160Z\"/>\n",
              "  </svg>\n",
              "    </button>\n",
              "\n",
              "  <style>\n",
              "    .colab-df-container {\n",
              "      display:flex;\n",
              "      gap: 12px;\n",
              "    }\n",
              "\n",
              "    .colab-df-convert {\n",
              "      background-color: #E8F0FE;\n",
              "      border: none;\n",
              "      border-radius: 50%;\n",
              "      cursor: pointer;\n",
              "      display: none;\n",
              "      fill: #1967D2;\n",
              "      height: 32px;\n",
              "      padding: 0 0 0 0;\n",
              "      width: 32px;\n",
              "    }\n",
              "\n",
              "    .colab-df-convert:hover {\n",
              "      background-color: #E2EBFA;\n",
              "      box-shadow: 0px 1px 2px rgba(60, 64, 67, 0.3), 0px 1px 3px 1px rgba(60, 64, 67, 0.15);\n",
              "      fill: #174EA6;\n",
              "    }\n",
              "\n",
              "    .colab-df-buttons div {\n",
              "      margin-bottom: 4px;\n",
              "    }\n",
              "\n",
              "    [theme=dark] .colab-df-convert {\n",
              "      background-color: #3B4455;\n",
              "      fill: #D2E3FC;\n",
              "    }\n",
              "\n",
              "    [theme=dark] .colab-df-convert:hover {\n",
              "      background-color: #434B5C;\n",
              "      box-shadow: 0px 1px 3px 1px rgba(0, 0, 0, 0.15);\n",
              "      filter: drop-shadow(0px 1px 2px rgba(0, 0, 0, 0.3));\n",
              "      fill: #FFFFFF;\n",
              "    }\n",
              "  </style>\n",
              "\n",
              "    <script>\n",
              "      const buttonEl =\n",
              "        document.querySelector('#df-32f721b1-ae4c-4b5c-ace1-aa6a4df25f2b button.colab-df-convert');\n",
              "      buttonEl.style.display =\n",
              "        google.colab.kernel.accessAllowed ? 'block' : 'none';\n",
              "\n",
              "      async function convertToInteractive(key) {\n",
              "        const element = document.querySelector('#df-32f721b1-ae4c-4b5c-ace1-aa6a4df25f2b');\n",
              "        const dataTable =\n",
              "          await google.colab.kernel.invokeFunction('convertToInteractive',\n",
              "                                                    [key], {});\n",
              "        if (!dataTable) return;\n",
              "\n",
              "        const docLinkHtml = 'Like what you see? Visit the ' +\n",
              "          '<a target=\"_blank\" href=https://colab.research.google.com/notebooks/data_table.ipynb>data table notebook</a>'\n",
              "          + ' to learn more about interactive tables.';\n",
              "        element.innerHTML = '';\n",
              "        dataTable['output_type'] = 'display_data';\n",
              "        await google.colab.output.renderOutput(dataTable, element);\n",
              "        const docLink = document.createElement('div');\n",
              "        docLink.innerHTML = docLinkHtml;\n",
              "        element.appendChild(docLink);\n",
              "      }\n",
              "    </script>\n",
              "  </div>\n",
              "\n",
              "\n",
              "<div id=\"df-38e1b10f-56d2-4a47-9a6a-cf08ead3cf6e\">\n",
              "  <button class=\"colab-df-quickchart\" onclick=\"quickchart('df-38e1b10f-56d2-4a47-9a6a-cf08ead3cf6e')\"\n",
              "            title=\"Suggest charts\"\n",
              "            style=\"display:none;\">\n",
              "\n",
              "<svg xmlns=\"http://www.w3.org/2000/svg\" height=\"24px\"viewBox=\"0 0 24 24\"\n",
              "     width=\"24px\">\n",
              "    <g>\n",
              "        <path d=\"M19 3H5c-1.1 0-2 .9-2 2v14c0 1.1.9 2 2 2h14c1.1 0 2-.9 2-2V5c0-1.1-.9-2-2-2zM9 17H7v-7h2v7zm4 0h-2V7h2v10zm4 0h-2v-4h2v4z\"/>\n",
              "    </g>\n",
              "</svg>\n",
              "  </button>\n",
              "\n",
              "<style>\n",
              "  .colab-df-quickchart {\n",
              "      --bg-color: #E8F0FE;\n",
              "      --fill-color: #1967D2;\n",
              "      --hover-bg-color: #E2EBFA;\n",
              "      --hover-fill-color: #174EA6;\n",
              "      --disabled-fill-color: #AAA;\n",
              "      --disabled-bg-color: #DDD;\n",
              "  }\n",
              "\n",
              "  [theme=dark] .colab-df-quickchart {\n",
              "      --bg-color: #3B4455;\n",
              "      --fill-color: #D2E3FC;\n",
              "      --hover-bg-color: #434B5C;\n",
              "      --hover-fill-color: #FFFFFF;\n",
              "      --disabled-bg-color: #3B4455;\n",
              "      --disabled-fill-color: #666;\n",
              "  }\n",
              "\n",
              "  .colab-df-quickchart {\n",
              "    background-color: var(--bg-color);\n",
              "    border: none;\n",
              "    border-radius: 50%;\n",
              "    cursor: pointer;\n",
              "    display: none;\n",
              "    fill: var(--fill-color);\n",
              "    height: 32px;\n",
              "    padding: 0;\n",
              "    width: 32px;\n",
              "  }\n",
              "\n",
              "  .colab-df-quickchart:hover {\n",
              "    background-color: var(--hover-bg-color);\n",
              "    box-shadow: 0 1px 2px rgba(60, 64, 67, 0.3), 0 1px 3px 1px rgba(60, 64, 67, 0.15);\n",
              "    fill: var(--button-hover-fill-color);\n",
              "  }\n",
              "\n",
              "  .colab-df-quickchart-complete:disabled,\n",
              "  .colab-df-quickchart-complete:disabled:hover {\n",
              "    background-color: var(--disabled-bg-color);\n",
              "    fill: var(--disabled-fill-color);\n",
              "    box-shadow: none;\n",
              "  }\n",
              "\n",
              "  .colab-df-spinner {\n",
              "    border: 2px solid var(--fill-color);\n",
              "    border-color: transparent;\n",
              "    border-bottom-color: var(--fill-color);\n",
              "    animation:\n",
              "      spin 1s steps(1) infinite;\n",
              "  }\n",
              "\n",
              "  @keyframes spin {\n",
              "    0% {\n",
              "      border-color: transparent;\n",
              "      border-bottom-color: var(--fill-color);\n",
              "      border-left-color: var(--fill-color);\n",
              "    }\n",
              "    20% {\n",
              "      border-color: transparent;\n",
              "      border-left-color: var(--fill-color);\n",
              "      border-top-color: var(--fill-color);\n",
              "    }\n",
              "    30% {\n",
              "      border-color: transparent;\n",
              "      border-left-color: var(--fill-color);\n",
              "      border-top-color: var(--fill-color);\n",
              "      border-right-color: var(--fill-color);\n",
              "    }\n",
              "    40% {\n",
              "      border-color: transparent;\n",
              "      border-right-color: var(--fill-color);\n",
              "      border-top-color: var(--fill-color);\n",
              "    }\n",
              "    60% {\n",
              "      border-color: transparent;\n",
              "      border-right-color: var(--fill-color);\n",
              "    }\n",
              "    80% {\n",
              "      border-color: transparent;\n",
              "      border-right-color: var(--fill-color);\n",
              "      border-bottom-color: var(--fill-color);\n",
              "    }\n",
              "    90% {\n",
              "      border-color: transparent;\n",
              "      border-bottom-color: var(--fill-color);\n",
              "    }\n",
              "  }\n",
              "</style>\n",
              "\n",
              "  <script>\n",
              "    async function quickchart(key) {\n",
              "      const quickchartButtonEl =\n",
              "        document.querySelector('#' + key + ' button');\n",
              "      quickchartButtonEl.disabled = true;  // To prevent multiple clicks.\n",
              "      quickchartButtonEl.classList.add('colab-df-spinner');\n",
              "      try {\n",
              "        const charts = await google.colab.kernel.invokeFunction(\n",
              "            'suggestCharts', [key], {});\n",
              "      } catch (error) {\n",
              "        console.error('Error during call to suggestCharts:', error);\n",
              "      }\n",
              "      quickchartButtonEl.classList.remove('colab-df-spinner');\n",
              "      quickchartButtonEl.classList.add('colab-df-quickchart-complete');\n",
              "    }\n",
              "    (() => {\n",
              "      let quickchartButtonEl =\n",
              "        document.querySelector('#df-38e1b10f-56d2-4a47-9a6a-cf08ead3cf6e button');\n",
              "      quickchartButtonEl.style.display =\n",
              "        google.colab.kernel.accessAllowed ? 'block' : 'none';\n",
              "    })();\n",
              "  </script>\n",
              "</div>\n",
              "\n",
              "    </div>\n",
              "  </div>\n"
            ],
            "application/vnd.google.colaboratory.intrinsic+json": {
              "type": "dataframe",
              "variable_name": "df"
            }
          },
          "metadata": {},
          "execution_count": 5
        }
      ]
    },
    {
      "cell_type": "code",
      "source": [
        "df[\"length_incorr\"] = [len(i) for i in df[\"incorrect\"]]\n",
        "df[\"length_corr\"] = [len(i) for i in df[\"correct\"]]"
      ],
      "metadata": {
        "id": "r0TnEIT2TBiI"
      },
      "execution_count": 6,
      "outputs": []
    },
    {
      "cell_type": "code",
      "source": [
        "df.head()"
      ],
      "metadata": {
        "colab": {
          "base_uri": "https://localhost:8080/",
          "height": 206
        },
        "id": "SipRh_veTODQ",
        "outputId": "43291c0c-7fcf-4771-9218-316296c21772"
      },
      "execution_count": 7,
      "outputs": [
        {
          "output_type": "execute_result",
          "data": {
            "text/plain": [
              "                                           incorrect  \\\n",
              "0  Bitcoin is for $7,094 this morning, which Coin...   \n",
              "1  The effect of widespread dud targets two face ...   \n",
              "2  tax on sales of stores for non residents are s...   \n",
              "3  Much many brands and sellers still in the market.   \n",
              "4  this is is the latest Maintenance release of S...   \n",
              "\n",
              "                                             correct  length_incorr  \\\n",
              "0  Bitcoin goes for $7,094 this morning, accordin...             56   \n",
              "1  1. The effect of \"widespread dud\" targets two ...             87   \n",
              "2  Capital Gains tax on the sale of properties fo...            334   \n",
              "3       Many brands and sellers still in the market.             49   \n",
              "4  This is is the latest maintenance release of S...             54   \n",
              "\n",
              "   length_corr  \n",
              "0           60  \n",
              "1           92  \n",
              "2          355  \n",
              "3           44  \n",
              "4           55  "
            ],
            "text/html": [
              "\n",
              "  <div id=\"df-df900d6e-4dad-409b-86b9-51a94fd13207\" class=\"colab-df-container\">\n",
              "    <div>\n",
              "<style scoped>\n",
              "    .dataframe tbody tr th:only-of-type {\n",
              "        vertical-align: middle;\n",
              "    }\n",
              "\n",
              "    .dataframe tbody tr th {\n",
              "        vertical-align: top;\n",
              "    }\n",
              "\n",
              "    .dataframe thead th {\n",
              "        text-align: right;\n",
              "    }\n",
              "</style>\n",
              "<table border=\"1\" class=\"dataframe\">\n",
              "  <thead>\n",
              "    <tr style=\"text-align: right;\">\n",
              "      <th></th>\n",
              "      <th>incorrect</th>\n",
              "      <th>correct</th>\n",
              "      <th>length_incorr</th>\n",
              "      <th>length_corr</th>\n",
              "    </tr>\n",
              "  </thead>\n",
              "  <tbody>\n",
              "    <tr>\n",
              "      <th>0</th>\n",
              "      <td>Bitcoin is for $7,094 this morning, which Coin...</td>\n",
              "      <td>Bitcoin goes for $7,094 this morning, accordin...</td>\n",
              "      <td>56</td>\n",
              "      <td>60</td>\n",
              "    </tr>\n",
              "    <tr>\n",
              "      <th>1</th>\n",
              "      <td>The effect of widespread dud targets two face ...</td>\n",
              "      <td>1. The effect of \"widespread dud\" targets two ...</td>\n",
              "      <td>87</td>\n",
              "      <td>92</td>\n",
              "    </tr>\n",
              "    <tr>\n",
              "      <th>2</th>\n",
              "      <td>tax on sales of stores for non residents are s...</td>\n",
              "      <td>Capital Gains tax on the sale of properties fo...</td>\n",
              "      <td>334</td>\n",
              "      <td>355</td>\n",
              "    </tr>\n",
              "    <tr>\n",
              "      <th>3</th>\n",
              "      <td>Much many brands and sellers still in the market.</td>\n",
              "      <td>Many brands and sellers still in the market.</td>\n",
              "      <td>49</td>\n",
              "      <td>44</td>\n",
              "    </tr>\n",
              "    <tr>\n",
              "      <th>4</th>\n",
              "      <td>this is is the latest Maintenance release of S...</td>\n",
              "      <td>This is is the latest maintenance release of S...</td>\n",
              "      <td>54</td>\n",
              "      <td>55</td>\n",
              "    </tr>\n",
              "  </tbody>\n",
              "</table>\n",
              "</div>\n",
              "    <div class=\"colab-df-buttons\">\n",
              "\n",
              "  <div class=\"colab-df-container\">\n",
              "    <button class=\"colab-df-convert\" onclick=\"convertToInteractive('df-df900d6e-4dad-409b-86b9-51a94fd13207')\"\n",
              "            title=\"Convert this dataframe to an interactive table.\"\n",
              "            style=\"display:none;\">\n",
              "\n",
              "  <svg xmlns=\"http://www.w3.org/2000/svg\" height=\"24px\" viewBox=\"0 -960 960 960\">\n",
              "    <path d=\"M120-120v-720h720v720H120Zm60-500h600v-160H180v160Zm220 220h160v-160H400v160Zm0 220h160v-160H400v160ZM180-400h160v-160H180v160Zm440 0h160v-160H620v160ZM180-180h160v-160H180v160Zm440 0h160v-160H620v160Z\"/>\n",
              "  </svg>\n",
              "    </button>\n",
              "\n",
              "  <style>\n",
              "    .colab-df-container {\n",
              "      display:flex;\n",
              "      gap: 12px;\n",
              "    }\n",
              "\n",
              "    .colab-df-convert {\n",
              "      background-color: #E8F0FE;\n",
              "      border: none;\n",
              "      border-radius: 50%;\n",
              "      cursor: pointer;\n",
              "      display: none;\n",
              "      fill: #1967D2;\n",
              "      height: 32px;\n",
              "      padding: 0 0 0 0;\n",
              "      width: 32px;\n",
              "    }\n",
              "\n",
              "    .colab-df-convert:hover {\n",
              "      background-color: #E2EBFA;\n",
              "      box-shadow: 0px 1px 2px rgba(60, 64, 67, 0.3), 0px 1px 3px 1px rgba(60, 64, 67, 0.15);\n",
              "      fill: #174EA6;\n",
              "    }\n",
              "\n",
              "    .colab-df-buttons div {\n",
              "      margin-bottom: 4px;\n",
              "    }\n",
              "\n",
              "    [theme=dark] .colab-df-convert {\n",
              "      background-color: #3B4455;\n",
              "      fill: #D2E3FC;\n",
              "    }\n",
              "\n",
              "    [theme=dark] .colab-df-convert:hover {\n",
              "      background-color: #434B5C;\n",
              "      box-shadow: 0px 1px 3px 1px rgba(0, 0, 0, 0.15);\n",
              "      filter: drop-shadow(0px 1px 2px rgba(0, 0, 0, 0.3));\n",
              "      fill: #FFFFFF;\n",
              "    }\n",
              "  </style>\n",
              "\n",
              "    <script>\n",
              "      const buttonEl =\n",
              "        document.querySelector('#df-df900d6e-4dad-409b-86b9-51a94fd13207 button.colab-df-convert');\n",
              "      buttonEl.style.display =\n",
              "        google.colab.kernel.accessAllowed ? 'block' : 'none';\n",
              "\n",
              "      async function convertToInteractive(key) {\n",
              "        const element = document.querySelector('#df-df900d6e-4dad-409b-86b9-51a94fd13207');\n",
              "        const dataTable =\n",
              "          await google.colab.kernel.invokeFunction('convertToInteractive',\n",
              "                                                    [key], {});\n",
              "        if (!dataTable) return;\n",
              "\n",
              "        const docLinkHtml = 'Like what you see? Visit the ' +\n",
              "          '<a target=\"_blank\" href=https://colab.research.google.com/notebooks/data_table.ipynb>data table notebook</a>'\n",
              "          + ' to learn more about interactive tables.';\n",
              "        element.innerHTML = '';\n",
              "        dataTable['output_type'] = 'display_data';\n",
              "        await google.colab.output.renderOutput(dataTable, element);\n",
              "        const docLink = document.createElement('div');\n",
              "        docLink.innerHTML = docLinkHtml;\n",
              "        element.appendChild(docLink);\n",
              "      }\n",
              "    </script>\n",
              "  </div>\n",
              "\n",
              "\n",
              "<div id=\"df-590c8747-40cf-4ce5-b441-7d5a02c77fcf\">\n",
              "  <button class=\"colab-df-quickchart\" onclick=\"quickchart('df-590c8747-40cf-4ce5-b441-7d5a02c77fcf')\"\n",
              "            title=\"Suggest charts\"\n",
              "            style=\"display:none;\">\n",
              "\n",
              "<svg xmlns=\"http://www.w3.org/2000/svg\" height=\"24px\"viewBox=\"0 0 24 24\"\n",
              "     width=\"24px\">\n",
              "    <g>\n",
              "        <path d=\"M19 3H5c-1.1 0-2 .9-2 2v14c0 1.1.9 2 2 2h14c1.1 0 2-.9 2-2V5c0-1.1-.9-2-2-2zM9 17H7v-7h2v7zm4 0h-2V7h2v10zm4 0h-2v-4h2v4z\"/>\n",
              "    </g>\n",
              "</svg>\n",
              "  </button>\n",
              "\n",
              "<style>\n",
              "  .colab-df-quickchart {\n",
              "      --bg-color: #E8F0FE;\n",
              "      --fill-color: #1967D2;\n",
              "      --hover-bg-color: #E2EBFA;\n",
              "      --hover-fill-color: #174EA6;\n",
              "      --disabled-fill-color: #AAA;\n",
              "      --disabled-bg-color: #DDD;\n",
              "  }\n",
              "\n",
              "  [theme=dark] .colab-df-quickchart {\n",
              "      --bg-color: #3B4455;\n",
              "      --fill-color: #D2E3FC;\n",
              "      --hover-bg-color: #434B5C;\n",
              "      --hover-fill-color: #FFFFFF;\n",
              "      --disabled-bg-color: #3B4455;\n",
              "      --disabled-fill-color: #666;\n",
              "  }\n",
              "\n",
              "  .colab-df-quickchart {\n",
              "    background-color: var(--bg-color);\n",
              "    border: none;\n",
              "    border-radius: 50%;\n",
              "    cursor: pointer;\n",
              "    display: none;\n",
              "    fill: var(--fill-color);\n",
              "    height: 32px;\n",
              "    padding: 0;\n",
              "    width: 32px;\n",
              "  }\n",
              "\n",
              "  .colab-df-quickchart:hover {\n",
              "    background-color: var(--hover-bg-color);\n",
              "    box-shadow: 0 1px 2px rgba(60, 64, 67, 0.3), 0 1px 3px 1px rgba(60, 64, 67, 0.15);\n",
              "    fill: var(--button-hover-fill-color);\n",
              "  }\n",
              "\n",
              "  .colab-df-quickchart-complete:disabled,\n",
              "  .colab-df-quickchart-complete:disabled:hover {\n",
              "    background-color: var(--disabled-bg-color);\n",
              "    fill: var(--disabled-fill-color);\n",
              "    box-shadow: none;\n",
              "  }\n",
              "\n",
              "  .colab-df-spinner {\n",
              "    border: 2px solid var(--fill-color);\n",
              "    border-color: transparent;\n",
              "    border-bottom-color: var(--fill-color);\n",
              "    animation:\n",
              "      spin 1s steps(1) infinite;\n",
              "  }\n",
              "\n",
              "  @keyframes spin {\n",
              "    0% {\n",
              "      border-color: transparent;\n",
              "      border-bottom-color: var(--fill-color);\n",
              "      border-left-color: var(--fill-color);\n",
              "    }\n",
              "    20% {\n",
              "      border-color: transparent;\n",
              "      border-left-color: var(--fill-color);\n",
              "      border-top-color: var(--fill-color);\n",
              "    }\n",
              "    30% {\n",
              "      border-color: transparent;\n",
              "      border-left-color: var(--fill-color);\n",
              "      border-top-color: var(--fill-color);\n",
              "      border-right-color: var(--fill-color);\n",
              "    }\n",
              "    40% {\n",
              "      border-color: transparent;\n",
              "      border-right-color: var(--fill-color);\n",
              "      border-top-color: var(--fill-color);\n",
              "    }\n",
              "    60% {\n",
              "      border-color: transparent;\n",
              "      border-right-color: var(--fill-color);\n",
              "    }\n",
              "    80% {\n",
              "      border-color: transparent;\n",
              "      border-right-color: var(--fill-color);\n",
              "      border-bottom-color: var(--fill-color);\n",
              "    }\n",
              "    90% {\n",
              "      border-color: transparent;\n",
              "      border-bottom-color: var(--fill-color);\n",
              "    }\n",
              "  }\n",
              "</style>\n",
              "\n",
              "  <script>\n",
              "    async function quickchart(key) {\n",
              "      const quickchartButtonEl =\n",
              "        document.querySelector('#' + key + ' button');\n",
              "      quickchartButtonEl.disabled = true;  // To prevent multiple clicks.\n",
              "      quickchartButtonEl.classList.add('colab-df-spinner');\n",
              "      try {\n",
              "        const charts = await google.colab.kernel.invokeFunction(\n",
              "            'suggestCharts', [key], {});\n",
              "      } catch (error) {\n",
              "        console.error('Error during call to suggestCharts:', error);\n",
              "      }\n",
              "      quickchartButtonEl.classList.remove('colab-df-spinner');\n",
              "      quickchartButtonEl.classList.add('colab-df-quickchart-complete');\n",
              "    }\n",
              "    (() => {\n",
              "      let quickchartButtonEl =\n",
              "        document.querySelector('#df-590c8747-40cf-4ce5-b441-7d5a02c77fcf button');\n",
              "      quickchartButtonEl.style.display =\n",
              "        google.colab.kernel.accessAllowed ? 'block' : 'none';\n",
              "    })();\n",
              "  </script>\n",
              "</div>\n",
              "\n",
              "    </div>\n",
              "  </div>\n"
            ],
            "application/vnd.google.colaboratory.intrinsic+json": {
              "type": "dataframe",
              "variable_name": "df"
            }
          },
          "metadata": {},
          "execution_count": 7
        }
      ]
    },
    {
      "cell_type": "code",
      "source": [
        "df[\"length_incorr\"].describe()"
      ],
      "metadata": {
        "colab": {
          "base_uri": "https://localhost:8080/"
        },
        "id": "Cn71WneRTQuY",
        "outputId": "cdd1ee47-fa90-4882-d059-064f96b6a6c9"
      },
      "execution_count": 8,
      "outputs": [
        {
          "output_type": "execute_result",
          "data": {
            "text/plain": [
              "count    152175.000000\n",
              "mean        132.274855\n",
              "std         109.284164\n",
              "min           2.000000\n",
              "25%          62.000000\n",
              "50%         106.000000\n",
              "75%         172.000000\n",
              "max       12705.000000\n",
              "Name: length_incorr, dtype: float64"
            ]
          },
          "metadata": {},
          "execution_count": 8
        }
      ]
    },
    {
      "cell_type": "code",
      "source": [
        "df[\"length_corr\"].describe()"
      ],
      "metadata": {
        "colab": {
          "base_uri": "https://localhost:8080/"
        },
        "id": "0O8gaqLATWuw",
        "outputId": "618cd358-4831-4e48-ec8e-2d608a9a136b"
      },
      "execution_count": 9,
      "outputs": [
        {
          "output_type": "execute_result",
          "data": {
            "text/plain": [
              "count    152175.000000\n",
              "mean        132.002944\n",
              "std          98.061967\n",
              "min          12.000000\n",
              "25%          62.000000\n",
              "50%         106.000000\n",
              "75%         173.000000\n",
              "max        1160.000000\n",
              "Name: length_corr, dtype: float64"
            ]
          },
          "metadata": {},
          "execution_count": 9
        }
      ]
    },
    {
      "cell_type": "code",
      "source": [
        "def reduce_sentences(data_input,data_output):\n",
        "\n",
        "  dataset_input = []\n",
        "  dataset_output = []\n",
        "\n",
        "  for i in range(len(data_input)):\n",
        "    if(len(data_input[i])<=500 and len(data_output[i])<=500):\n",
        "      dataset_input.append(data_input[i])\n",
        "      dataset_output.append(data_output[i])\n",
        "\n",
        "  return dataset_input,dataset_output"
      ],
      "metadata": {
        "id": "ATkboBZjTavf"
      },
      "execution_count": 10,
      "outputs": []
    },
    {
      "cell_type": "code",
      "source": [
        "incorrect_sent,correct_sentences = reduce_sentences(df[\"incorrect\"],df[\"correct\"])"
      ],
      "metadata": {
        "id": "B9rOMNPTVgpv"
      },
      "execution_count": 11,
      "outputs": []
    },
    {
      "cell_type": "code",
      "source": [
        "len(incorrect_sent),len(correct_sentences)"
      ],
      "metadata": {
        "colab": {
          "base_uri": "https://localhost:8080/"
        },
        "id": "O0X0DNioWdl4",
        "outputId": "10ee0f17-1ac1-4fe9-98d9-212a8e895254"
      },
      "execution_count": 12,
      "outputs": [
        {
          "output_type": "execute_result",
          "data": {
            "text/plain": [
              "(150660, 150660)"
            ]
          },
          "metadata": {},
          "execution_count": 12
        }
      ]
    },
    {
      "cell_type": "code",
      "source": [
        "X_train,X_test,y_train,y_test = train_test_split(incorrect_sent,correct_sentences,test_size=0.1,random_state=42)"
      ],
      "metadata": {
        "id": "QDDeIYI-4Jxf"
      },
      "execution_count": 13,
      "outputs": []
    },
    {
      "cell_type": "code",
      "source": [
        "df_new = pd.DataFrame({\n",
        "    \"incorrect\":X_train,\n",
        "    \"correct\":y_train\n",
        "})"
      ],
      "metadata": {
        "id": "qZj6t323WfH4"
      },
      "execution_count": 14,
      "outputs": []
    },
    {
      "cell_type": "code",
      "source": [
        "df_test = pd.DataFrame({\n",
        "    \"incorrect\":X_test,\n",
        "    \"correct\":y_test\n",
        "})"
      ],
      "metadata": {
        "id": "wwcAcqGqPNDj"
      },
      "execution_count": 15,
      "outputs": []
    },
    {
      "cell_type": "code",
      "source": [
        "df_new.head()"
      ],
      "metadata": {
        "colab": {
          "base_uri": "https://localhost:8080/",
          "height": 206
        },
        "id": "m2_2_b6VWt6n",
        "outputId": "a7988640-735c-4cc8-c364-2bbc3bd28566"
      },
      "execution_count": 16,
      "outputs": [
        {
          "output_type": "execute_result",
          "data": {
            "text/plain": [
              "                                           incorrect  \\\n",
              "0  All our technical staff works with ES ｃcats, s...   \n",
              "1  28:20 And David said to Solomon his son, Be st...   \n",
              "2  Actually strap rockets to our back, though tha...   \n",
              "3  Chart of the are day: You are Better Off Than ...   \n",
              "4  Olly Murs added a series of new shows to his U...   \n",
              "\n",
              "                                             correct  \n",
              "0  All our technical staff works with ESD coat, s...  \n",
              "1  28:20 And David said to Solomon his son, Be st...  \n",
              "2  Actually strap rockets to our back, although, ...  \n",
              "3  Chart of the Day: Are You Better Off Than You ...  \n",
              "4  Olly Murs has added a series of new shows to h...  "
            ],
            "text/html": [
              "\n",
              "  <div id=\"df-bbe3b41a-19c6-443e-8fcf-b43751cbda42\" class=\"colab-df-container\">\n",
              "    <div>\n",
              "<style scoped>\n",
              "    .dataframe tbody tr th:only-of-type {\n",
              "        vertical-align: middle;\n",
              "    }\n",
              "\n",
              "    .dataframe tbody tr th {\n",
              "        vertical-align: top;\n",
              "    }\n",
              "\n",
              "    .dataframe thead th {\n",
              "        text-align: right;\n",
              "    }\n",
              "</style>\n",
              "<table border=\"1\" class=\"dataframe\">\n",
              "  <thead>\n",
              "    <tr style=\"text-align: right;\">\n",
              "      <th></th>\n",
              "      <th>incorrect</th>\n",
              "      <th>correct</th>\n",
              "    </tr>\n",
              "  </thead>\n",
              "  <tbody>\n",
              "    <tr>\n",
              "      <th>0</th>\n",
              "      <td>All our technical staff works with ES ｃcats, s...</td>\n",
              "      <td>All our technical staff works with ESD coat, s...</td>\n",
              "    </tr>\n",
              "    <tr>\n",
              "      <th>1</th>\n",
              "      <td>28:20 And David said to Solomon his son, Be st...</td>\n",
              "      <td>28:20 And David said to Solomon his son, Be st...</td>\n",
              "    </tr>\n",
              "    <tr>\n",
              "      <th>2</th>\n",
              "      <td>Actually strap rockets to our back, though tha...</td>\n",
              "      <td>Actually strap rockets to our back, although, ...</td>\n",
              "    </tr>\n",
              "    <tr>\n",
              "      <th>3</th>\n",
              "      <td>Chart of the are day: You are Better Off Than ...</td>\n",
              "      <td>Chart of the Day: Are You Better Off Than You ...</td>\n",
              "    </tr>\n",
              "    <tr>\n",
              "      <th>4</th>\n",
              "      <td>Olly Murs added a series of new shows to his U...</td>\n",
              "      <td>Olly Murs has added a series of new shows to h...</td>\n",
              "    </tr>\n",
              "  </tbody>\n",
              "</table>\n",
              "</div>\n",
              "    <div class=\"colab-df-buttons\">\n",
              "\n",
              "  <div class=\"colab-df-container\">\n",
              "    <button class=\"colab-df-convert\" onclick=\"convertToInteractive('df-bbe3b41a-19c6-443e-8fcf-b43751cbda42')\"\n",
              "            title=\"Convert this dataframe to an interactive table.\"\n",
              "            style=\"display:none;\">\n",
              "\n",
              "  <svg xmlns=\"http://www.w3.org/2000/svg\" height=\"24px\" viewBox=\"0 -960 960 960\">\n",
              "    <path d=\"M120-120v-720h720v720H120Zm60-500h600v-160H180v160Zm220 220h160v-160H400v160Zm0 220h160v-160H400v160ZM180-400h160v-160H180v160Zm440 0h160v-160H620v160ZM180-180h160v-160H180v160Zm440 0h160v-160H620v160Z\"/>\n",
              "  </svg>\n",
              "    </button>\n",
              "\n",
              "  <style>\n",
              "    .colab-df-container {\n",
              "      display:flex;\n",
              "      gap: 12px;\n",
              "    }\n",
              "\n",
              "    .colab-df-convert {\n",
              "      background-color: #E8F0FE;\n",
              "      border: none;\n",
              "      border-radius: 50%;\n",
              "      cursor: pointer;\n",
              "      display: none;\n",
              "      fill: #1967D2;\n",
              "      height: 32px;\n",
              "      padding: 0 0 0 0;\n",
              "      width: 32px;\n",
              "    }\n",
              "\n",
              "    .colab-df-convert:hover {\n",
              "      background-color: #E2EBFA;\n",
              "      box-shadow: 0px 1px 2px rgba(60, 64, 67, 0.3), 0px 1px 3px 1px rgba(60, 64, 67, 0.15);\n",
              "      fill: #174EA6;\n",
              "    }\n",
              "\n",
              "    .colab-df-buttons div {\n",
              "      margin-bottom: 4px;\n",
              "    }\n",
              "\n",
              "    [theme=dark] .colab-df-convert {\n",
              "      background-color: #3B4455;\n",
              "      fill: #D2E3FC;\n",
              "    }\n",
              "\n",
              "    [theme=dark] .colab-df-convert:hover {\n",
              "      background-color: #434B5C;\n",
              "      box-shadow: 0px 1px 3px 1px rgba(0, 0, 0, 0.15);\n",
              "      filter: drop-shadow(0px 1px 2px rgba(0, 0, 0, 0.3));\n",
              "      fill: #FFFFFF;\n",
              "    }\n",
              "  </style>\n",
              "\n",
              "    <script>\n",
              "      const buttonEl =\n",
              "        document.querySelector('#df-bbe3b41a-19c6-443e-8fcf-b43751cbda42 button.colab-df-convert');\n",
              "      buttonEl.style.display =\n",
              "        google.colab.kernel.accessAllowed ? 'block' : 'none';\n",
              "\n",
              "      async function convertToInteractive(key) {\n",
              "        const element = document.querySelector('#df-bbe3b41a-19c6-443e-8fcf-b43751cbda42');\n",
              "        const dataTable =\n",
              "          await google.colab.kernel.invokeFunction('convertToInteractive',\n",
              "                                                    [key], {});\n",
              "        if (!dataTable) return;\n",
              "\n",
              "        const docLinkHtml = 'Like what you see? Visit the ' +\n",
              "          '<a target=\"_blank\" href=https://colab.research.google.com/notebooks/data_table.ipynb>data table notebook</a>'\n",
              "          + ' to learn more about interactive tables.';\n",
              "        element.innerHTML = '';\n",
              "        dataTable['output_type'] = 'display_data';\n",
              "        await google.colab.output.renderOutput(dataTable, element);\n",
              "        const docLink = document.createElement('div');\n",
              "        docLink.innerHTML = docLinkHtml;\n",
              "        element.appendChild(docLink);\n",
              "      }\n",
              "    </script>\n",
              "  </div>\n",
              "\n",
              "\n",
              "<div id=\"df-9b9e2321-67fd-47de-aa30-e4628305ce75\">\n",
              "  <button class=\"colab-df-quickchart\" onclick=\"quickchart('df-9b9e2321-67fd-47de-aa30-e4628305ce75')\"\n",
              "            title=\"Suggest charts\"\n",
              "            style=\"display:none;\">\n",
              "\n",
              "<svg xmlns=\"http://www.w3.org/2000/svg\" height=\"24px\"viewBox=\"0 0 24 24\"\n",
              "     width=\"24px\">\n",
              "    <g>\n",
              "        <path d=\"M19 3H5c-1.1 0-2 .9-2 2v14c0 1.1.9 2 2 2h14c1.1 0 2-.9 2-2V5c0-1.1-.9-2-2-2zM9 17H7v-7h2v7zm4 0h-2V7h2v10zm4 0h-2v-4h2v4z\"/>\n",
              "    </g>\n",
              "</svg>\n",
              "  </button>\n",
              "\n",
              "<style>\n",
              "  .colab-df-quickchart {\n",
              "      --bg-color: #E8F0FE;\n",
              "      --fill-color: #1967D2;\n",
              "      --hover-bg-color: #E2EBFA;\n",
              "      --hover-fill-color: #174EA6;\n",
              "      --disabled-fill-color: #AAA;\n",
              "      --disabled-bg-color: #DDD;\n",
              "  }\n",
              "\n",
              "  [theme=dark] .colab-df-quickchart {\n",
              "      --bg-color: #3B4455;\n",
              "      --fill-color: #D2E3FC;\n",
              "      --hover-bg-color: #434B5C;\n",
              "      --hover-fill-color: #FFFFFF;\n",
              "      --disabled-bg-color: #3B4455;\n",
              "      --disabled-fill-color: #666;\n",
              "  }\n",
              "\n",
              "  .colab-df-quickchart {\n",
              "    background-color: var(--bg-color);\n",
              "    border: none;\n",
              "    border-radius: 50%;\n",
              "    cursor: pointer;\n",
              "    display: none;\n",
              "    fill: var(--fill-color);\n",
              "    height: 32px;\n",
              "    padding: 0;\n",
              "    width: 32px;\n",
              "  }\n",
              "\n",
              "  .colab-df-quickchart:hover {\n",
              "    background-color: var(--hover-bg-color);\n",
              "    box-shadow: 0 1px 2px rgba(60, 64, 67, 0.3), 0 1px 3px 1px rgba(60, 64, 67, 0.15);\n",
              "    fill: var(--button-hover-fill-color);\n",
              "  }\n",
              "\n",
              "  .colab-df-quickchart-complete:disabled,\n",
              "  .colab-df-quickchart-complete:disabled:hover {\n",
              "    background-color: var(--disabled-bg-color);\n",
              "    fill: var(--disabled-fill-color);\n",
              "    box-shadow: none;\n",
              "  }\n",
              "\n",
              "  .colab-df-spinner {\n",
              "    border: 2px solid var(--fill-color);\n",
              "    border-color: transparent;\n",
              "    border-bottom-color: var(--fill-color);\n",
              "    animation:\n",
              "      spin 1s steps(1) infinite;\n",
              "  }\n",
              "\n",
              "  @keyframes spin {\n",
              "    0% {\n",
              "      border-color: transparent;\n",
              "      border-bottom-color: var(--fill-color);\n",
              "      border-left-color: var(--fill-color);\n",
              "    }\n",
              "    20% {\n",
              "      border-color: transparent;\n",
              "      border-left-color: var(--fill-color);\n",
              "      border-top-color: var(--fill-color);\n",
              "    }\n",
              "    30% {\n",
              "      border-color: transparent;\n",
              "      border-left-color: var(--fill-color);\n",
              "      border-top-color: var(--fill-color);\n",
              "      border-right-color: var(--fill-color);\n",
              "    }\n",
              "    40% {\n",
              "      border-color: transparent;\n",
              "      border-right-color: var(--fill-color);\n",
              "      border-top-color: var(--fill-color);\n",
              "    }\n",
              "    60% {\n",
              "      border-color: transparent;\n",
              "      border-right-color: var(--fill-color);\n",
              "    }\n",
              "    80% {\n",
              "      border-color: transparent;\n",
              "      border-right-color: var(--fill-color);\n",
              "      border-bottom-color: var(--fill-color);\n",
              "    }\n",
              "    90% {\n",
              "      border-color: transparent;\n",
              "      border-bottom-color: var(--fill-color);\n",
              "    }\n",
              "  }\n",
              "</style>\n",
              "\n",
              "  <script>\n",
              "    async function quickchart(key) {\n",
              "      const quickchartButtonEl =\n",
              "        document.querySelector('#' + key + ' button');\n",
              "      quickchartButtonEl.disabled = true;  // To prevent multiple clicks.\n",
              "      quickchartButtonEl.classList.add('colab-df-spinner');\n",
              "      try {\n",
              "        const charts = await google.colab.kernel.invokeFunction(\n",
              "            'suggestCharts', [key], {});\n",
              "      } catch (error) {\n",
              "        console.error('Error during call to suggestCharts:', error);\n",
              "      }\n",
              "      quickchartButtonEl.classList.remove('colab-df-spinner');\n",
              "      quickchartButtonEl.classList.add('colab-df-quickchart-complete');\n",
              "    }\n",
              "    (() => {\n",
              "      let quickchartButtonEl =\n",
              "        document.querySelector('#df-9b9e2321-67fd-47de-aa30-e4628305ce75 button');\n",
              "      quickchartButtonEl.style.display =\n",
              "        google.colab.kernel.accessAllowed ? 'block' : 'none';\n",
              "    })();\n",
              "  </script>\n",
              "</div>\n",
              "\n",
              "    </div>\n",
              "  </div>\n"
            ],
            "application/vnd.google.colaboratory.intrinsic+json": {
              "type": "dataframe",
              "variable_name": "df_new"
            }
          },
          "metadata": {},
          "execution_count": 16
        }
      ]
    },
    {
      "cell_type": "code",
      "source": [
        "df_new.isna().sum()"
      ],
      "metadata": {
        "colab": {
          "base_uri": "https://localhost:8080/"
        },
        "id": "oZyZxnADWubZ",
        "outputId": "4624a1c9-22a2-4603-e373-88133d337a21"
      },
      "execution_count": 17,
      "outputs": [
        {
          "output_type": "execute_result",
          "data": {
            "text/plain": [
              "incorrect    0\n",
              "correct      0\n",
              "dtype: int64"
            ]
          },
          "metadata": {},
          "execution_count": 17
        }
      ]
    },
    {
      "cell_type": "code",
      "source": [
        "df_new.duplicated().sum()"
      ],
      "metadata": {
        "colab": {
          "base_uri": "https://localhost:8080/"
        },
        "id": "EUovn3YUXYQf",
        "outputId": "e99c87ea-ddff-4403-91cf-6e09c58bc566"
      },
      "execution_count": 18,
      "outputs": [
        {
          "output_type": "execute_result",
          "data": {
            "text/plain": [
              "0"
            ]
          },
          "metadata": {},
          "execution_count": 18
        }
      ]
    },
    {
      "cell_type": "code",
      "source": [
        "def clean_text(sent):\n",
        "  sent = re.sub(r\"([?.!,])\",r\" \\1\",sent)\n",
        "  sent = re.sub(f\"[' ']+\",\" \",sent)\n",
        "  sent = sent.strip()\n",
        "  return sent"
      ],
      "metadata": {
        "id": "vFoCQRU-Xeh3"
      },
      "execution_count": 19,
      "outputs": []
    },
    {
      "cell_type": "code",
      "source": [
        "df_new[\"incorrect\"] = df_new[\"incorrect\"].apply(clean_text)\n",
        "df_new[\"correct\"] = df_new[\"correct\"].apply(clean_text)"
      ],
      "metadata": {
        "id": "y7sbmB52YL1X"
      },
      "execution_count": 20,
      "outputs": []
    },
    {
      "cell_type": "code",
      "source": [
        "df_test[\"incorrect\"] = df_test[\"incorrect\"].apply(clean_text)\n",
        "df_test[\"correct\"] = df_test[\"correct\"].apply(clean_text)"
      ],
      "metadata": {
        "id": "j8YM30dGPgxT"
      },
      "execution_count": 21,
      "outputs": []
    },
    {
      "cell_type": "code",
      "source": [
        "df_new.head()"
      ],
      "metadata": {
        "colab": {
          "base_uri": "https://localhost:8080/",
          "height": 206
        },
        "id": "XV0vkLa5YTCn",
        "outputId": "321b2408-540b-463b-c55e-1607e01b007b"
      },
      "execution_count": 22,
      "outputs": [
        {
          "output_type": "execute_result",
          "data": {
            "text/plain": [
              "                                           incorrect  \\\n",
              "0  All our technical staff works with ES ｃcats , ...   \n",
              "1  28:20 And David said to Solomon his son , Be s...   \n",
              "2  Actually strap rockets to our back , though th...   \n",
              "3  Chart of the are day: You are Better Off Than ...   \n",
              "4  Olly Murs added a series of new shows to his U...   \n",
              "\n",
              "                                             correct  \n",
              "0  All our technical staff works with ESD coat , ...  \n",
              "1  28:20 And David said to Solomon his son , Be s...  \n",
              "2  Actually strap rockets to our back , although ...  \n",
              "3  Chart of the Day: Are You Better Off Than You ...  \n",
              "4  Olly Murs has added a series of new shows to h...  "
            ],
            "text/html": [
              "\n",
              "  <div id=\"df-90ecbe00-dbaa-4b43-a62d-3ea7591c52e3\" class=\"colab-df-container\">\n",
              "    <div>\n",
              "<style scoped>\n",
              "    .dataframe tbody tr th:only-of-type {\n",
              "        vertical-align: middle;\n",
              "    }\n",
              "\n",
              "    .dataframe tbody tr th {\n",
              "        vertical-align: top;\n",
              "    }\n",
              "\n",
              "    .dataframe thead th {\n",
              "        text-align: right;\n",
              "    }\n",
              "</style>\n",
              "<table border=\"1\" class=\"dataframe\">\n",
              "  <thead>\n",
              "    <tr style=\"text-align: right;\">\n",
              "      <th></th>\n",
              "      <th>incorrect</th>\n",
              "      <th>correct</th>\n",
              "    </tr>\n",
              "  </thead>\n",
              "  <tbody>\n",
              "    <tr>\n",
              "      <th>0</th>\n",
              "      <td>All our technical staff works with ES ｃcats , ...</td>\n",
              "      <td>All our technical staff works with ESD coat , ...</td>\n",
              "    </tr>\n",
              "    <tr>\n",
              "      <th>1</th>\n",
              "      <td>28:20 And David said to Solomon his son , Be s...</td>\n",
              "      <td>28:20 And David said to Solomon his son , Be s...</td>\n",
              "    </tr>\n",
              "    <tr>\n",
              "      <th>2</th>\n",
              "      <td>Actually strap rockets to our back , though th...</td>\n",
              "      <td>Actually strap rockets to our back , although ...</td>\n",
              "    </tr>\n",
              "    <tr>\n",
              "      <th>3</th>\n",
              "      <td>Chart of the are day: You are Better Off Than ...</td>\n",
              "      <td>Chart of the Day: Are You Better Off Than You ...</td>\n",
              "    </tr>\n",
              "    <tr>\n",
              "      <th>4</th>\n",
              "      <td>Olly Murs added a series of new shows to his U...</td>\n",
              "      <td>Olly Murs has added a series of new shows to h...</td>\n",
              "    </tr>\n",
              "  </tbody>\n",
              "</table>\n",
              "</div>\n",
              "    <div class=\"colab-df-buttons\">\n",
              "\n",
              "  <div class=\"colab-df-container\">\n",
              "    <button class=\"colab-df-convert\" onclick=\"convertToInteractive('df-90ecbe00-dbaa-4b43-a62d-3ea7591c52e3')\"\n",
              "            title=\"Convert this dataframe to an interactive table.\"\n",
              "            style=\"display:none;\">\n",
              "\n",
              "  <svg xmlns=\"http://www.w3.org/2000/svg\" height=\"24px\" viewBox=\"0 -960 960 960\">\n",
              "    <path d=\"M120-120v-720h720v720H120Zm60-500h600v-160H180v160Zm220 220h160v-160H400v160Zm0 220h160v-160H400v160ZM180-400h160v-160H180v160Zm440 0h160v-160H620v160ZM180-180h160v-160H180v160Zm440 0h160v-160H620v160Z\"/>\n",
              "  </svg>\n",
              "    </button>\n",
              "\n",
              "  <style>\n",
              "    .colab-df-container {\n",
              "      display:flex;\n",
              "      gap: 12px;\n",
              "    }\n",
              "\n",
              "    .colab-df-convert {\n",
              "      background-color: #E8F0FE;\n",
              "      border: none;\n",
              "      border-radius: 50%;\n",
              "      cursor: pointer;\n",
              "      display: none;\n",
              "      fill: #1967D2;\n",
              "      height: 32px;\n",
              "      padding: 0 0 0 0;\n",
              "      width: 32px;\n",
              "    }\n",
              "\n",
              "    .colab-df-convert:hover {\n",
              "      background-color: #E2EBFA;\n",
              "      box-shadow: 0px 1px 2px rgba(60, 64, 67, 0.3), 0px 1px 3px 1px rgba(60, 64, 67, 0.15);\n",
              "      fill: #174EA6;\n",
              "    }\n",
              "\n",
              "    .colab-df-buttons div {\n",
              "      margin-bottom: 4px;\n",
              "    }\n",
              "\n",
              "    [theme=dark] .colab-df-convert {\n",
              "      background-color: #3B4455;\n",
              "      fill: #D2E3FC;\n",
              "    }\n",
              "\n",
              "    [theme=dark] .colab-df-convert:hover {\n",
              "      background-color: #434B5C;\n",
              "      box-shadow: 0px 1px 3px 1px rgba(0, 0, 0, 0.15);\n",
              "      filter: drop-shadow(0px 1px 2px rgba(0, 0, 0, 0.3));\n",
              "      fill: #FFFFFF;\n",
              "    }\n",
              "  </style>\n",
              "\n",
              "    <script>\n",
              "      const buttonEl =\n",
              "        document.querySelector('#df-90ecbe00-dbaa-4b43-a62d-3ea7591c52e3 button.colab-df-convert');\n",
              "      buttonEl.style.display =\n",
              "        google.colab.kernel.accessAllowed ? 'block' : 'none';\n",
              "\n",
              "      async function convertToInteractive(key) {\n",
              "        const element = document.querySelector('#df-90ecbe00-dbaa-4b43-a62d-3ea7591c52e3');\n",
              "        const dataTable =\n",
              "          await google.colab.kernel.invokeFunction('convertToInteractive',\n",
              "                                                    [key], {});\n",
              "        if (!dataTable) return;\n",
              "\n",
              "        const docLinkHtml = 'Like what you see? Visit the ' +\n",
              "          '<a target=\"_blank\" href=https://colab.research.google.com/notebooks/data_table.ipynb>data table notebook</a>'\n",
              "          + ' to learn more about interactive tables.';\n",
              "        element.innerHTML = '';\n",
              "        dataTable['output_type'] = 'display_data';\n",
              "        await google.colab.output.renderOutput(dataTable, element);\n",
              "        const docLink = document.createElement('div');\n",
              "        docLink.innerHTML = docLinkHtml;\n",
              "        element.appendChild(docLink);\n",
              "      }\n",
              "    </script>\n",
              "  </div>\n",
              "\n",
              "\n",
              "<div id=\"df-f29626c8-6678-4e97-a9d2-14a8b184e86e\">\n",
              "  <button class=\"colab-df-quickchart\" onclick=\"quickchart('df-f29626c8-6678-4e97-a9d2-14a8b184e86e')\"\n",
              "            title=\"Suggest charts\"\n",
              "            style=\"display:none;\">\n",
              "\n",
              "<svg xmlns=\"http://www.w3.org/2000/svg\" height=\"24px\"viewBox=\"0 0 24 24\"\n",
              "     width=\"24px\">\n",
              "    <g>\n",
              "        <path d=\"M19 3H5c-1.1 0-2 .9-2 2v14c0 1.1.9 2 2 2h14c1.1 0 2-.9 2-2V5c0-1.1-.9-2-2-2zM9 17H7v-7h2v7zm4 0h-2V7h2v10zm4 0h-2v-4h2v4z\"/>\n",
              "    </g>\n",
              "</svg>\n",
              "  </button>\n",
              "\n",
              "<style>\n",
              "  .colab-df-quickchart {\n",
              "      --bg-color: #E8F0FE;\n",
              "      --fill-color: #1967D2;\n",
              "      --hover-bg-color: #E2EBFA;\n",
              "      --hover-fill-color: #174EA6;\n",
              "      --disabled-fill-color: #AAA;\n",
              "      --disabled-bg-color: #DDD;\n",
              "  }\n",
              "\n",
              "  [theme=dark] .colab-df-quickchart {\n",
              "      --bg-color: #3B4455;\n",
              "      --fill-color: #D2E3FC;\n",
              "      --hover-bg-color: #434B5C;\n",
              "      --hover-fill-color: #FFFFFF;\n",
              "      --disabled-bg-color: #3B4455;\n",
              "      --disabled-fill-color: #666;\n",
              "  }\n",
              "\n",
              "  .colab-df-quickchart {\n",
              "    background-color: var(--bg-color);\n",
              "    border: none;\n",
              "    border-radius: 50%;\n",
              "    cursor: pointer;\n",
              "    display: none;\n",
              "    fill: var(--fill-color);\n",
              "    height: 32px;\n",
              "    padding: 0;\n",
              "    width: 32px;\n",
              "  }\n",
              "\n",
              "  .colab-df-quickchart:hover {\n",
              "    background-color: var(--hover-bg-color);\n",
              "    box-shadow: 0 1px 2px rgba(60, 64, 67, 0.3), 0 1px 3px 1px rgba(60, 64, 67, 0.15);\n",
              "    fill: var(--button-hover-fill-color);\n",
              "  }\n",
              "\n",
              "  .colab-df-quickchart-complete:disabled,\n",
              "  .colab-df-quickchart-complete:disabled:hover {\n",
              "    background-color: var(--disabled-bg-color);\n",
              "    fill: var(--disabled-fill-color);\n",
              "    box-shadow: none;\n",
              "  }\n",
              "\n",
              "  .colab-df-spinner {\n",
              "    border: 2px solid var(--fill-color);\n",
              "    border-color: transparent;\n",
              "    border-bottom-color: var(--fill-color);\n",
              "    animation:\n",
              "      spin 1s steps(1) infinite;\n",
              "  }\n",
              "\n",
              "  @keyframes spin {\n",
              "    0% {\n",
              "      border-color: transparent;\n",
              "      border-bottom-color: var(--fill-color);\n",
              "      border-left-color: var(--fill-color);\n",
              "    }\n",
              "    20% {\n",
              "      border-color: transparent;\n",
              "      border-left-color: var(--fill-color);\n",
              "      border-top-color: var(--fill-color);\n",
              "    }\n",
              "    30% {\n",
              "      border-color: transparent;\n",
              "      border-left-color: var(--fill-color);\n",
              "      border-top-color: var(--fill-color);\n",
              "      border-right-color: var(--fill-color);\n",
              "    }\n",
              "    40% {\n",
              "      border-color: transparent;\n",
              "      border-right-color: var(--fill-color);\n",
              "      border-top-color: var(--fill-color);\n",
              "    }\n",
              "    60% {\n",
              "      border-color: transparent;\n",
              "      border-right-color: var(--fill-color);\n",
              "    }\n",
              "    80% {\n",
              "      border-color: transparent;\n",
              "      border-right-color: var(--fill-color);\n",
              "      border-bottom-color: var(--fill-color);\n",
              "    }\n",
              "    90% {\n",
              "      border-color: transparent;\n",
              "      border-bottom-color: var(--fill-color);\n",
              "    }\n",
              "  }\n",
              "</style>\n",
              "\n",
              "  <script>\n",
              "    async function quickchart(key) {\n",
              "      const quickchartButtonEl =\n",
              "        document.querySelector('#' + key + ' button');\n",
              "      quickchartButtonEl.disabled = true;  // To prevent multiple clicks.\n",
              "      quickchartButtonEl.classList.add('colab-df-spinner');\n",
              "      try {\n",
              "        const charts = await google.colab.kernel.invokeFunction(\n",
              "            'suggestCharts', [key], {});\n",
              "      } catch (error) {\n",
              "        console.error('Error during call to suggestCharts:', error);\n",
              "      }\n",
              "      quickchartButtonEl.classList.remove('colab-df-spinner');\n",
              "      quickchartButtonEl.classList.add('colab-df-quickchart-complete');\n",
              "    }\n",
              "    (() => {\n",
              "      let quickchartButtonEl =\n",
              "        document.querySelector('#df-f29626c8-6678-4e97-a9d2-14a8b184e86e button');\n",
              "      quickchartButtonEl.style.display =\n",
              "        google.colab.kernel.accessAllowed ? 'block' : 'none';\n",
              "    })();\n",
              "  </script>\n",
              "</div>\n",
              "\n",
              "    </div>\n",
              "  </div>\n"
            ],
            "application/vnd.google.colaboratory.intrinsic+json": {
              "type": "dataframe",
              "variable_name": "df_new"
            }
          },
          "metadata": {},
          "execution_count": 22
        }
      ]
    },
    {
      "cell_type": "code",
      "source": [
        "df[\"incorrect\"][0]"
      ],
      "metadata": {
        "colab": {
          "base_uri": "https://localhost:8080/",
          "height": 36
        },
        "id": "VPSs1uInaPs1",
        "outputId": "247a592e-799f-4f40-f2a3-4e35cb7cab7c"
      },
      "execution_count": 23,
      "outputs": [
        {
          "output_type": "execute_result",
          "data": {
            "text/plain": [
              "'Bitcoin is for $7,094 this morning, which CoinDesk says.'"
            ],
            "application/vnd.google.colaboratory.intrinsic+json": {
              "type": "string"
            }
          },
          "metadata": {},
          "execution_count": 23
        }
      ]
    },
    {
      "cell_type": "code",
      "source": [
        "def preparing_decoder_input(sentence):\n",
        "    return \"<sos> \" + sentence\n",
        "\n",
        "def preparing_decoder_target(sentence):\n",
        "  return sentence + \" <eos>\"\n",
        "\n",
        "def preprocessing_decoder(sentence):\n",
        "  return \"<sos> \" + sentence + \" <eos>\""
      ],
      "metadata": {
        "id": "QzCmlDS_YVXH"
      },
      "execution_count": 24,
      "outputs": []
    },
    {
      "cell_type": "code",
      "source": [
        "df_new[\"decoder_input\"] = df_new[\"correct\"].apply(preparing_decoder_input)\n",
        "df_new[\"decoder_target\"] = df_new[\"correct\"].apply(preparing_decoder_target)"
      ],
      "metadata": {
        "id": "qp80jpHpfcM2"
      },
      "execution_count": 25,
      "outputs": []
    },
    {
      "cell_type": "code",
      "source": [
        "df_test[\"decoder_input\"] = df_test[\"correct\"].apply(preparing_decoder_input)\n",
        "df_test[\"decoder_target\"] = df_test[\"correct\"].apply(preparing_decoder_target)"
      ],
      "metadata": {
        "id": "C9lSyJGCP-nS"
      },
      "execution_count": 26,
      "outputs": []
    },
    {
      "cell_type": "code",
      "source": [
        "df_new[\"correct\"] = df_new[\"correct\"].apply(preprocessing_decoder)"
      ],
      "metadata": {
        "id": "xO7FvWR8gI-V"
      },
      "execution_count": 27,
      "outputs": []
    },
    {
      "cell_type": "code",
      "source": [
        "df_new.head()"
      ],
      "metadata": {
        "colab": {
          "base_uri": "https://localhost:8080/",
          "height": 206
        },
        "id": "HgHoGv6GYsvH",
        "outputId": "4210a650-73d8-48b7-d68a-0187297fe3a5"
      },
      "execution_count": 28,
      "outputs": [
        {
          "output_type": "execute_result",
          "data": {
            "text/plain": [
              "                                           incorrect  \\\n",
              "0  All our technical staff works with ES ｃcats , ...   \n",
              "1  28:20 And David said to Solomon his son , Be s...   \n",
              "2  Actually strap rockets to our back , though th...   \n",
              "3  Chart of the are day: You are Better Off Than ...   \n",
              "4  Olly Murs added a series of new shows to his U...   \n",
              "\n",
              "                                             correct  \\\n",
              "0  <sos> All our technical staff works with ESD c...   \n",
              "1  <sos> 28:20 And David said to Solomon his son ...   \n",
              "2  <sos> Actually strap rockets to our back , alt...   \n",
              "3  <sos> Chart of the Day: Are You Better Off Tha...   \n",
              "4  <sos> Olly Murs has added a series of new show...   \n",
              "\n",
              "                                       decoder_input  \\\n",
              "0  <sos> All our technical staff works with ESD c...   \n",
              "1  <sos> 28:20 And David said to Solomon his son ...   \n",
              "2  <sos> Actually strap rockets to our back , alt...   \n",
              "3  <sos> Chart of the Day: Are You Better Off Tha...   \n",
              "4  <sos> Olly Murs has added a series of new show...   \n",
              "\n",
              "                                      decoder_target  \n",
              "0  All our technical staff works with ESD coat , ...  \n",
              "1  28:20 And David said to Solomon his son , Be s...  \n",
              "2  Actually strap rockets to our back , although ...  \n",
              "3  Chart of the Day: Are You Better Off Than You ...  \n",
              "4  Olly Murs has added a series of new shows to h...  "
            ],
            "text/html": [
              "\n",
              "  <div id=\"df-415a272c-6c2a-43cf-8a66-b13a3ff4f489\" class=\"colab-df-container\">\n",
              "    <div>\n",
              "<style scoped>\n",
              "    .dataframe tbody tr th:only-of-type {\n",
              "        vertical-align: middle;\n",
              "    }\n",
              "\n",
              "    .dataframe tbody tr th {\n",
              "        vertical-align: top;\n",
              "    }\n",
              "\n",
              "    .dataframe thead th {\n",
              "        text-align: right;\n",
              "    }\n",
              "</style>\n",
              "<table border=\"1\" class=\"dataframe\">\n",
              "  <thead>\n",
              "    <tr style=\"text-align: right;\">\n",
              "      <th></th>\n",
              "      <th>incorrect</th>\n",
              "      <th>correct</th>\n",
              "      <th>decoder_input</th>\n",
              "      <th>decoder_target</th>\n",
              "    </tr>\n",
              "  </thead>\n",
              "  <tbody>\n",
              "    <tr>\n",
              "      <th>0</th>\n",
              "      <td>All our technical staff works with ES ｃcats , ...</td>\n",
              "      <td>&lt;sos&gt; All our technical staff works with ESD c...</td>\n",
              "      <td>&lt;sos&gt; All our technical staff works with ESD c...</td>\n",
              "      <td>All our technical staff works with ESD coat , ...</td>\n",
              "    </tr>\n",
              "    <tr>\n",
              "      <th>1</th>\n",
              "      <td>28:20 And David said to Solomon his son , Be s...</td>\n",
              "      <td>&lt;sos&gt; 28:20 And David said to Solomon his son ...</td>\n",
              "      <td>&lt;sos&gt; 28:20 And David said to Solomon his son ...</td>\n",
              "      <td>28:20 And David said to Solomon his son , Be s...</td>\n",
              "    </tr>\n",
              "    <tr>\n",
              "      <th>2</th>\n",
              "      <td>Actually strap rockets to our back , though th...</td>\n",
              "      <td>&lt;sos&gt; Actually strap rockets to our back , alt...</td>\n",
              "      <td>&lt;sos&gt; Actually strap rockets to our back , alt...</td>\n",
              "      <td>Actually strap rockets to our back , although ...</td>\n",
              "    </tr>\n",
              "    <tr>\n",
              "      <th>3</th>\n",
              "      <td>Chart of the are day: You are Better Off Than ...</td>\n",
              "      <td>&lt;sos&gt; Chart of the Day: Are You Better Off Tha...</td>\n",
              "      <td>&lt;sos&gt; Chart of the Day: Are You Better Off Tha...</td>\n",
              "      <td>Chart of the Day: Are You Better Off Than You ...</td>\n",
              "    </tr>\n",
              "    <tr>\n",
              "      <th>4</th>\n",
              "      <td>Olly Murs added a series of new shows to his U...</td>\n",
              "      <td>&lt;sos&gt; Olly Murs has added a series of new show...</td>\n",
              "      <td>&lt;sos&gt; Olly Murs has added a series of new show...</td>\n",
              "      <td>Olly Murs has added a series of new shows to h...</td>\n",
              "    </tr>\n",
              "  </tbody>\n",
              "</table>\n",
              "</div>\n",
              "    <div class=\"colab-df-buttons\">\n",
              "\n",
              "  <div class=\"colab-df-container\">\n",
              "    <button class=\"colab-df-convert\" onclick=\"convertToInteractive('df-415a272c-6c2a-43cf-8a66-b13a3ff4f489')\"\n",
              "            title=\"Convert this dataframe to an interactive table.\"\n",
              "            style=\"display:none;\">\n",
              "\n",
              "  <svg xmlns=\"http://www.w3.org/2000/svg\" height=\"24px\" viewBox=\"0 -960 960 960\">\n",
              "    <path d=\"M120-120v-720h720v720H120Zm60-500h600v-160H180v160Zm220 220h160v-160H400v160Zm0 220h160v-160H400v160ZM180-400h160v-160H180v160Zm440 0h160v-160H620v160ZM180-180h160v-160H180v160Zm440 0h160v-160H620v160Z\"/>\n",
              "  </svg>\n",
              "    </button>\n",
              "\n",
              "  <style>\n",
              "    .colab-df-container {\n",
              "      display:flex;\n",
              "      gap: 12px;\n",
              "    }\n",
              "\n",
              "    .colab-df-convert {\n",
              "      background-color: #E8F0FE;\n",
              "      border: none;\n",
              "      border-radius: 50%;\n",
              "      cursor: pointer;\n",
              "      display: none;\n",
              "      fill: #1967D2;\n",
              "      height: 32px;\n",
              "      padding: 0 0 0 0;\n",
              "      width: 32px;\n",
              "    }\n",
              "\n",
              "    .colab-df-convert:hover {\n",
              "      background-color: #E2EBFA;\n",
              "      box-shadow: 0px 1px 2px rgba(60, 64, 67, 0.3), 0px 1px 3px 1px rgba(60, 64, 67, 0.15);\n",
              "      fill: #174EA6;\n",
              "    }\n",
              "\n",
              "    .colab-df-buttons div {\n",
              "      margin-bottom: 4px;\n",
              "    }\n",
              "\n",
              "    [theme=dark] .colab-df-convert {\n",
              "      background-color: #3B4455;\n",
              "      fill: #D2E3FC;\n",
              "    }\n",
              "\n",
              "    [theme=dark] .colab-df-convert:hover {\n",
              "      background-color: #434B5C;\n",
              "      box-shadow: 0px 1px 3px 1px rgba(0, 0, 0, 0.15);\n",
              "      filter: drop-shadow(0px 1px 2px rgba(0, 0, 0, 0.3));\n",
              "      fill: #FFFFFF;\n",
              "    }\n",
              "  </style>\n",
              "\n",
              "    <script>\n",
              "      const buttonEl =\n",
              "        document.querySelector('#df-415a272c-6c2a-43cf-8a66-b13a3ff4f489 button.colab-df-convert');\n",
              "      buttonEl.style.display =\n",
              "        google.colab.kernel.accessAllowed ? 'block' : 'none';\n",
              "\n",
              "      async function convertToInteractive(key) {\n",
              "        const element = document.querySelector('#df-415a272c-6c2a-43cf-8a66-b13a3ff4f489');\n",
              "        const dataTable =\n",
              "          await google.colab.kernel.invokeFunction('convertToInteractive',\n",
              "                                                    [key], {});\n",
              "        if (!dataTable) return;\n",
              "\n",
              "        const docLinkHtml = 'Like what you see? Visit the ' +\n",
              "          '<a target=\"_blank\" href=https://colab.research.google.com/notebooks/data_table.ipynb>data table notebook</a>'\n",
              "          + ' to learn more about interactive tables.';\n",
              "        element.innerHTML = '';\n",
              "        dataTable['output_type'] = 'display_data';\n",
              "        await google.colab.output.renderOutput(dataTable, element);\n",
              "        const docLink = document.createElement('div');\n",
              "        docLink.innerHTML = docLinkHtml;\n",
              "        element.appendChild(docLink);\n",
              "      }\n",
              "    </script>\n",
              "  </div>\n",
              "\n",
              "\n",
              "<div id=\"df-7420f901-5ad5-451d-99fe-d3b7aefdb9a8\">\n",
              "  <button class=\"colab-df-quickchart\" onclick=\"quickchart('df-7420f901-5ad5-451d-99fe-d3b7aefdb9a8')\"\n",
              "            title=\"Suggest charts\"\n",
              "            style=\"display:none;\">\n",
              "\n",
              "<svg xmlns=\"http://www.w3.org/2000/svg\" height=\"24px\"viewBox=\"0 0 24 24\"\n",
              "     width=\"24px\">\n",
              "    <g>\n",
              "        <path d=\"M19 3H5c-1.1 0-2 .9-2 2v14c0 1.1.9 2 2 2h14c1.1 0 2-.9 2-2V5c0-1.1-.9-2-2-2zM9 17H7v-7h2v7zm4 0h-2V7h2v10zm4 0h-2v-4h2v4z\"/>\n",
              "    </g>\n",
              "</svg>\n",
              "  </button>\n",
              "\n",
              "<style>\n",
              "  .colab-df-quickchart {\n",
              "      --bg-color: #E8F0FE;\n",
              "      --fill-color: #1967D2;\n",
              "      --hover-bg-color: #E2EBFA;\n",
              "      --hover-fill-color: #174EA6;\n",
              "      --disabled-fill-color: #AAA;\n",
              "      --disabled-bg-color: #DDD;\n",
              "  }\n",
              "\n",
              "  [theme=dark] .colab-df-quickchart {\n",
              "      --bg-color: #3B4455;\n",
              "      --fill-color: #D2E3FC;\n",
              "      --hover-bg-color: #434B5C;\n",
              "      --hover-fill-color: #FFFFFF;\n",
              "      --disabled-bg-color: #3B4455;\n",
              "      --disabled-fill-color: #666;\n",
              "  }\n",
              "\n",
              "  .colab-df-quickchart {\n",
              "    background-color: var(--bg-color);\n",
              "    border: none;\n",
              "    border-radius: 50%;\n",
              "    cursor: pointer;\n",
              "    display: none;\n",
              "    fill: var(--fill-color);\n",
              "    height: 32px;\n",
              "    padding: 0;\n",
              "    width: 32px;\n",
              "  }\n",
              "\n",
              "  .colab-df-quickchart:hover {\n",
              "    background-color: var(--hover-bg-color);\n",
              "    box-shadow: 0 1px 2px rgba(60, 64, 67, 0.3), 0 1px 3px 1px rgba(60, 64, 67, 0.15);\n",
              "    fill: var(--button-hover-fill-color);\n",
              "  }\n",
              "\n",
              "  .colab-df-quickchart-complete:disabled,\n",
              "  .colab-df-quickchart-complete:disabled:hover {\n",
              "    background-color: var(--disabled-bg-color);\n",
              "    fill: var(--disabled-fill-color);\n",
              "    box-shadow: none;\n",
              "  }\n",
              "\n",
              "  .colab-df-spinner {\n",
              "    border: 2px solid var(--fill-color);\n",
              "    border-color: transparent;\n",
              "    border-bottom-color: var(--fill-color);\n",
              "    animation:\n",
              "      spin 1s steps(1) infinite;\n",
              "  }\n",
              "\n",
              "  @keyframes spin {\n",
              "    0% {\n",
              "      border-color: transparent;\n",
              "      border-bottom-color: var(--fill-color);\n",
              "      border-left-color: var(--fill-color);\n",
              "    }\n",
              "    20% {\n",
              "      border-color: transparent;\n",
              "      border-left-color: var(--fill-color);\n",
              "      border-top-color: var(--fill-color);\n",
              "    }\n",
              "    30% {\n",
              "      border-color: transparent;\n",
              "      border-left-color: var(--fill-color);\n",
              "      border-top-color: var(--fill-color);\n",
              "      border-right-color: var(--fill-color);\n",
              "    }\n",
              "    40% {\n",
              "      border-color: transparent;\n",
              "      border-right-color: var(--fill-color);\n",
              "      border-top-color: var(--fill-color);\n",
              "    }\n",
              "    60% {\n",
              "      border-color: transparent;\n",
              "      border-right-color: var(--fill-color);\n",
              "    }\n",
              "    80% {\n",
              "      border-color: transparent;\n",
              "      border-right-color: var(--fill-color);\n",
              "      border-bottom-color: var(--fill-color);\n",
              "    }\n",
              "    90% {\n",
              "      border-color: transparent;\n",
              "      border-bottom-color: var(--fill-color);\n",
              "    }\n",
              "  }\n",
              "</style>\n",
              "\n",
              "  <script>\n",
              "    async function quickchart(key) {\n",
              "      const quickchartButtonEl =\n",
              "        document.querySelector('#' + key + ' button');\n",
              "      quickchartButtonEl.disabled = true;  // To prevent multiple clicks.\n",
              "      quickchartButtonEl.classList.add('colab-df-spinner');\n",
              "      try {\n",
              "        const charts = await google.colab.kernel.invokeFunction(\n",
              "            'suggestCharts', [key], {});\n",
              "      } catch (error) {\n",
              "        console.error('Error during call to suggestCharts:', error);\n",
              "      }\n",
              "      quickchartButtonEl.classList.remove('colab-df-spinner');\n",
              "      quickchartButtonEl.classList.add('colab-df-quickchart-complete');\n",
              "    }\n",
              "    (() => {\n",
              "      let quickchartButtonEl =\n",
              "        document.querySelector('#df-7420f901-5ad5-451d-99fe-d3b7aefdb9a8 button');\n",
              "      quickchartButtonEl.style.display =\n",
              "        google.colab.kernel.accessAllowed ? 'block' : 'none';\n",
              "    })();\n",
              "  </script>\n",
              "</div>\n",
              "\n",
              "    </div>\n",
              "  </div>\n"
            ],
            "application/vnd.google.colaboratory.intrinsic+json": {
              "type": "dataframe",
              "variable_name": "df_new"
            }
          },
          "metadata": {},
          "execution_count": 28
        }
      ]
    },
    {
      "cell_type": "code",
      "source": [
        "y = df_new[\"correct\"]"
      ],
      "metadata": {
        "id": "Ldgd6CgFgRdl"
      },
      "execution_count": 29,
      "outputs": []
    },
    {
      "cell_type": "code",
      "source": [
        "X = df_new[\"incorrect\"]\n",
        "y_input = df_new[\"decoder_input\"]\n",
        "y_target = df_new[\"decoder_target\"]"
      ],
      "metadata": {
        "id": "m0IJqfmJd7r-"
      },
      "execution_count": 30,
      "outputs": []
    },
    {
      "cell_type": "code",
      "source": [
        "X_test = df_test[\"incorrect\"]\n",
        "y_input_test = df_test[\"decoder_input\"]\n",
        "y_target_test = df_test[\"decoder_target\"]"
      ],
      "metadata": {
        "id": "dJle8-qRQETh"
      },
      "execution_count": 31,
      "outputs": []
    },
    {
      "cell_type": "code",
      "source": [
        "def concat_list(l):\n",
        "    concat = ''\n",
        "    for word in l:\n",
        "        concat += word + ' '\n",
        "    return concat"
      ],
      "metadata": {
        "id": "QYDaMBMNeF0u"
      },
      "execution_count": 32,
      "outputs": []
    },
    {
      "cell_type": "code",
      "source": [
        "X = [concat_list(data) for data in X]\n",
        "y_input = [concat_list(data) for data in y_input]\n",
        "y_target = [concat_list(data) for data in y_target]"
      ],
      "metadata": {
        "id": "GfK7nMdKeOIu"
      },
      "execution_count": 33,
      "outputs": []
    },
    {
      "cell_type": "code",
      "source": [
        "X_test = [concat_list(data) for data in X_test]\n",
        "y_input_test = [concat_list(data) for data in y_input_test]\n",
        "y_target_test = [concat_list(data) for data in y_target_test]"
      ],
      "metadata": {
        "id": "BL-Up1TwQLTC"
      },
      "execution_count": 34,
      "outputs": []
    },
    {
      "cell_type": "code",
      "source": [
        "input_tokenizer = Tokenizer(char_level = True,oov_token=\"<unk>\")\n",
        "input_tokenizer.fit_on_texts(X)\n",
        "\n",
        "target_tokenizer = Tokenizer(char_level = True,oov_token=\"<unk>\")\n",
        "target_tokenizer.fit_on_texts(y)"
      ],
      "metadata": {
        "id": "XSimVEjhYufX"
      },
      "execution_count": 35,
      "outputs": []
    },
    {
      "cell_type": "code",
      "source": [
        "input_vocab_size = len(input_tokenizer.word_index) + 1\n",
        "target_vocab_size = len(target_tokenizer.word_index) + 1\n",
        "\n",
        "print(f\"input vocab size :- {input_vocab_size} and target vocab size :- {target_vocab_size}\")"
      ],
      "metadata": {
        "colab": {
          "base_uri": "https://localhost:8080/"
        },
        "id": "jevC1UoZb3m2",
        "outputId": "3c501552-feff-4026-942d-dcd9b85f6546"
      },
      "execution_count": 36,
      "outputs": [
        {
          "output_type": "stream",
          "name": "stdout",
          "text": [
            "input vocab size :- 1051 and target vocab size :- 794\n"
          ]
        }
      ]
    },
    {
      "cell_type": "code",
      "source": [
        "X = input_tokenizer.texts_to_sequences(X)\n",
        "y_input = target_tokenizer.texts_to_sequences(y_input)\n",
        "y_target = target_tokenizer.texts_to_sequences(y_target)"
      ],
      "metadata": {
        "id": "laqNOSKgcBtF"
      },
      "execution_count": 37,
      "outputs": []
    },
    {
      "cell_type": "code",
      "source": [
        "X_test = input_tokenizer.texts_to_sequences(X_test)\n",
        "y_input_test = target_tokenizer.texts_to_sequences(y_input_test)\n",
        "y_target_test = target_tokenizer.texts_to_sequences(y_target_test)"
      ],
      "metadata": {
        "id": "FoF2HsToQTDa"
      },
      "execution_count": 38,
      "outputs": []
    },
    {
      "cell_type": "code",
      "source": [
        "padded_length = 1072\n",
        "X_padded = pad_sequences(X,padded_length,padding=\"post\")\n",
        "y_input_padded = pad_sequences(y_input,padded_length,padding=\"post\")\n",
        "y_target_padded = pad_sequences(y_target,padded_length,padding=\"post\")"
      ],
      "metadata": {
        "id": "9IHldqeyx9lO"
      },
      "execution_count": 39,
      "outputs": []
    },
    {
      "cell_type": "code",
      "source": [
        "padded_length = 1072\n",
        "X_padded_test = pad_sequences(X_test,padded_length,padding=\"post\")\n",
        "y_input_padded_test = pad_sequences(y_input_test,padded_length,padding=\"post\")\n",
        "y_target_padded_test = pad_sequences(y_target_test,padded_length,padding=\"post\")"
      ],
      "metadata": {
        "id": "jqvNjl0eQYrK"
      },
      "execution_count": 40,
      "outputs": []
    },
    {
      "cell_type": "code",
      "source": [
        "hidden_dim = 256\n",
        "dropout = 0.2\n",
        "batch_size=64\n",
        "epochs = 20\n",
        "embedding_dim = 50"
      ],
      "metadata": {
        "id": "iqPRdjfAcs5-"
      },
      "execution_count": 41,
      "outputs": []
    },
    {
      "cell_type": "code",
      "source": [
        "len(X_train)"
      ],
      "metadata": {
        "colab": {
          "base_uri": "https://localhost:8080/"
        },
        "id": "O2eaigRqyF9S",
        "outputId": "acd61d6d-3ef2-4a36-f333-011117ef105f"
      },
      "execution_count": 42,
      "outputs": [
        {
          "output_type": "execute_result",
          "data": {
            "text/plain": [
              "135594"
            ]
          },
          "metadata": {},
          "execution_count": 42
        }
      ]
    },
    {
      "cell_type": "code",
      "source": [
        "encoder_inputs = Input(shape=[None])\n",
        "encoder_embedding_layer = Embedding(input_vocab_size,embedding_dim,mask_zero=True)\n",
        "encoder_embedding_output = encoder_embedding_layer(encoder_inputs)\n",
        "\n",
        "encoder_lstm_layer = LSTM(hidden_dim,return_sequences=True,return_state=True,dropout=dropout)\n",
        "encoder_outputs, state_h, state_c = encoder_lstm_layer(encoder_embedding_output)\n",
        "\n",
        "encoder_states = (state_h,state_c)"
      ],
      "metadata": {
        "id": "ijlE95DY3pXQ"
      },
      "execution_count": 43,
      "outputs": []
    },
    {
      "cell_type": "code",
      "source": [
        "decoder_inputs = Input(shape=[None])\n",
        "decoder_embedding_layer = Embedding(target_vocab_size,embedding_dim,mask_zero=True)\n",
        "decoder_embedding_output = decoder_embedding_layer(decoder_inputs)\n",
        "\n",
        "decoder_lstm_layer = LSTM(hidden_dim,return_sequences=True,return_state=True,dropout = dropout)\n",
        "decoder_outputs, _,_ = decoder_lstm_layer(decoder_embedding_output,initial_state=encoder_states)\n",
        "decoder_dense = Dense(target_vocab_size,activation=\"softmax\")\n",
        "\n",
        "y_prediction = decoder_dense(decoder_outputs)"
      ],
      "metadata": {
        "id": "eD1jQOsD3r6f"
      },
      "execution_count": 44,
      "outputs": []
    },
    {
      "cell_type": "code",
      "source": [
        "model = Model([encoder_inputs,decoder_inputs],y_prediction)"
      ],
      "metadata": {
        "id": "zBj5X6gE3zR_"
      },
      "execution_count": 45,
      "outputs": []
    },
    {
      "cell_type": "code",
      "source": [
        "optimizer = tf.keras.optimizers.Adam()\n",
        "loss_fxn = tf.keras.losses.SparseCategoricalCrossentropy(from_logits=True)"
      ],
      "metadata": {
        "id": "D9FqeacofvL3"
      },
      "execution_count": 46,
      "outputs": []
    },
    {
      "cell_type": "code",
      "source": [
        "def custom_loss_function(y_tar,y_pred):\n",
        "    mask = tf.math.logical_not(tf.math.equal(y_tar,0))\n",
        "    loss_ = loss_fxn(y_tar,y_pred)\n",
        "\n",
        "    mask = tf.cast(mask,dtype=loss_.dtype)\n",
        "    loss_ *=mask\n",
        "\n",
        "    return tf.reduce_mean(loss_)"
      ],
      "metadata": {
        "id": "zgTdBnf_fwD-"
      },
      "execution_count": 47,
      "outputs": []
    },
    {
      "cell_type": "code",
      "source": [
        "model.compile(optimizer=optimizer,loss=custom_loss_function,metrics=[\"sparse_categorical_accuracy\"])"
      ],
      "metadata": {
        "id": "6XZSxMN_316f"
      },
      "execution_count": 48,
      "outputs": []
    },
    {
      "cell_type": "code",
      "source": [
        "model.summary()"
      ],
      "metadata": {
        "colab": {
          "base_uri": "https://localhost:8080/"
        },
        "id": "scqopuPT33CH",
        "outputId": "88fb88a0-e2c7-4dfa-fb0a-303938932671"
      },
      "execution_count": 49,
      "outputs": [
        {
          "output_type": "stream",
          "name": "stdout",
          "text": [
            "Model: \"model\"\n",
            "__________________________________________________________________________________________________\n",
            " Layer (type)                Output Shape                 Param #   Connected to                  \n",
            "==================================================================================================\n",
            " input_1 (InputLayer)        [(None, None)]               0         []                            \n",
            "                                                                                                  \n",
            " input_2 (InputLayer)        [(None, None)]               0         []                            \n",
            "                                                                                                  \n",
            " embedding (Embedding)       (None, None, 50)             52550     ['input_1[0][0]']             \n",
            "                                                                                                  \n",
            " embedding_1 (Embedding)     (None, None, 50)             39700     ['input_2[0][0]']             \n",
            "                                                                                                  \n",
            " lstm (LSTM)                 [(None, None, 256),          314368    ['embedding[0][0]']           \n",
            "                              (None, 256),                                                        \n",
            "                              (None, 256)]                                                        \n",
            "                                                                                                  \n",
            " lstm_1 (LSTM)               [(None, None, 256),          314368    ['embedding_1[0][0]',         \n",
            "                              (None, 256),                           'lstm[0][1]',                \n",
            "                              (None, 256)]                           'lstm[0][2]']                \n",
            "                                                                                                  \n",
            " dense (Dense)               (None, None, 794)            204058    ['lstm_1[0][0]']              \n",
            "                                                                                                  \n",
            "==================================================================================================\n",
            "Total params: 925044 (3.53 MB)\n",
            "Trainable params: 925044 (3.53 MB)\n",
            "Non-trainable params: 0 (0.00 Byte)\n",
            "__________________________________________________________________________________________________\n"
          ]
        }
      ]
    },
    {
      "cell_type": "code",
      "source": [
        "train_history = model.fit([X_padded,y_input_padded],y_target_padded,batch_size=batch_size,epochs=epochs,\n",
        "                          validation_split=0.1)"
      ],
      "metadata": {
        "colab": {
          "base_uri": "https://localhost:8080/"
        },
        "id": "5AmGWJTA33wP",
        "outputId": "d17980a6-7586-469e-c355-3d5a91dd2f1e"
      },
      "execution_count": 50,
      "outputs": [
        {
          "output_type": "stream",
          "name": "stdout",
          "text": [
            "Epoch 1/20\n"
          ]
        },
        {
          "output_type": "stream",
          "name": "stderr",
          "text": [
            "/usr/local/lib/python3.10/dist-packages/keras/src/backend.py:5727: UserWarning: \"`sparse_categorical_crossentropy` received `from_logits=True`, but the `output` argument was produced by a Softmax activation and thus does not represent logits. Was this intended?\n",
            "  output, from_logits = _get_logits(\n"
          ]
        },
        {
          "output_type": "stream",
          "name": "stdout",
          "text": [
            "1907/1907 [==============================] - 311s 156ms/step - loss: 0.3919 - sparse_categorical_accuracy: 0.5929 - val_loss: 0.3729 - val_sparse_categorical_accuracy: 0.5960\n",
            "Epoch 2/20\n",
            "1907/1907 [==============================] - 286s 150ms/step - loss: 0.3728 - sparse_categorical_accuracy: 0.5962 - val_loss: 0.3710 - val_sparse_categorical_accuracy: 0.5964\n",
            "Epoch 3/20\n",
            "1907/1907 [==============================] - 289s 152ms/step - loss: 0.3741 - sparse_categorical_accuracy: 0.5956 - val_loss: 0.3718 - val_sparse_categorical_accuracy: 0.5960\n",
            "Epoch 4/20\n",
            "1907/1907 [==============================] - 291s 153ms/step - loss: 0.3709 - sparse_categorical_accuracy: 0.5978 - val_loss: 0.3680 - val_sparse_categorical_accuracy: 0.5996\n",
            "Epoch 5/20\n",
            "1907/1907 [==============================] - 290s 152ms/step - loss: 0.3666 - sparse_categorical_accuracy: 0.6006 - val_loss: 0.3633 - val_sparse_categorical_accuracy: 0.6022\n",
            "Epoch 6/20\n",
            "1907/1907 [==============================] - 285s 149ms/step - loss: 0.3648 - sparse_categorical_accuracy: 0.6017 - val_loss: 0.3758 - val_sparse_categorical_accuracy: 0.5928\n",
            "Epoch 7/20\n",
            "1907/1907 [==============================] - 284s 149ms/step - loss: 0.3758 - sparse_categorical_accuracy: 0.5931 - val_loss: 0.3739 - val_sparse_categorical_accuracy: 0.5936\n",
            "Epoch 8/20\n",
            "1907/1907 [==============================] - 290s 152ms/step - loss: 0.3745 - sparse_categorical_accuracy: 0.5937 - val_loss: 0.3729 - val_sparse_categorical_accuracy: 0.5940\n",
            "Epoch 9/20\n",
            "1907/1907 [==============================] - 291s 152ms/step - loss: 0.3734 - sparse_categorical_accuracy: 0.5941 - val_loss: 0.3709 - val_sparse_categorical_accuracy: 0.5951\n",
            "Epoch 10/20\n",
            "1907/1907 [==============================] - 291s 153ms/step - loss: 0.3696 - sparse_categorical_accuracy: 0.5969 - val_loss: 0.3666 - val_sparse_categorical_accuracy: 0.5983\n",
            "Epoch 11/20\n",
            "1907/1907 [==============================] - 290s 152ms/step - loss: 0.3672 - sparse_categorical_accuracy: 0.5982 - val_loss: 0.3662 - val_sparse_categorical_accuracy: 0.5985\n",
            "Epoch 12/20\n",
            "1907/1907 [==============================] - 291s 152ms/step - loss: 0.3663 - sparse_categorical_accuracy: 0.5987 - val_loss: 0.3640 - val_sparse_categorical_accuracy: 0.5997\n",
            "Epoch 13/20\n",
            "1907/1907 [==============================] - 291s 152ms/step - loss: 0.3649 - sparse_categorical_accuracy: 0.5994 - val_loss: 0.3630 - val_sparse_categorical_accuracy: 0.6001\n",
            "Epoch 14/20\n",
            "1907/1907 [==============================] - 291s 153ms/step - loss: 0.3637 - sparse_categorical_accuracy: 0.5999 - val_loss: 0.3617 - val_sparse_categorical_accuracy: 0.6006\n",
            "Epoch 15/20\n",
            "1907/1907 [==============================] - 288s 151ms/step - loss: 0.3627 - sparse_categorical_accuracy: 0.6003 - val_loss: 0.3608 - val_sparse_categorical_accuracy: 0.6011\n",
            "Epoch 16/20\n",
            "1907/1907 [==============================] - 291s 153ms/step - loss: 0.3619 - sparse_categorical_accuracy: 0.6011 - val_loss: 0.3605 - val_sparse_categorical_accuracy: 0.6016\n",
            "Epoch 17/20\n",
            "1907/1907 [==============================] - 291s 153ms/step - loss: 0.3610 - sparse_categorical_accuracy: 0.6018 - val_loss: 0.3586 - val_sparse_categorical_accuracy: 0.6029\n",
            "Epoch 18/20\n",
            "1907/1907 [==============================] - 292s 153ms/step - loss: 0.3596 - sparse_categorical_accuracy: 0.6028 - val_loss: 0.3582 - val_sparse_categorical_accuracy: 0.6032\n",
            "Epoch 19/20\n",
            "1907/1907 [==============================] - 292s 153ms/step - loss: 0.3586 - sparse_categorical_accuracy: 0.6036 - val_loss: 0.3567 - val_sparse_categorical_accuracy: 0.6043\n",
            "Epoch 20/20\n",
            "1907/1907 [==============================] - 286s 150ms/step - loss: 0.3577 - sparse_categorical_accuracy: 0.6043 - val_loss: 0.3556 - val_sparse_categorical_accuracy: 0.6052\n"
          ]
        }
      ]
    },
    {
      "cell_type": "code",
      "source": [
        "loss,acc = model.evaluate((X_padded_test,y_input_padded_test),y_target_padded_test)"
      ],
      "metadata": {
        "id": "yDLPNk-S4qyn",
        "colab": {
          "base_uri": "https://localhost:8080/"
        },
        "outputId": "6232992f-2df1-44ad-a195-a44cedbdbe02"
      },
      "execution_count": 51,
      "outputs": [
        {
          "output_type": "stream",
          "name": "stdout",
          "text": [
            "471/471 [==============================] - 22s 46ms/step - loss: 0.3578 - sparse_categorical_accuracy: 0.6054\n"
          ]
        }
      ]
    },
    {
      "cell_type": "code",
      "source": [
        "loss,acc"
      ],
      "metadata": {
        "id": "skAnnq8lQl7C",
        "colab": {
          "base_uri": "https://localhost:8080/"
        },
        "outputId": "75cd0215-b8bb-4728-863a-3e4025911443"
      },
      "execution_count": 52,
      "outputs": [
        {
          "output_type": "execute_result",
          "data": {
            "text/plain": [
              "(0.35784170031547546, 0.6053571701049805)"
            ]
          },
          "metadata": {},
          "execution_count": 52
        }
      ]
    },
    {
      "cell_type": "code",
      "source": [
        "def prediction(target_seq,input_seq_padded,output_text):\n",
        "\n",
        "  predictions = model.predict([input_seq_padded, target_seq])\n",
        "\n",
        "  predicted_index = np.argmax(predictions[0, -1, :])\n",
        "\n",
        "\n",
        "  predicted_char = input_tokenizer.index_word[predicted_index]\n",
        "\n",
        "  output_text += predicted_char\n",
        "  print(output_text)\n",
        "\n",
        "  target_seq = np.zeros((1, len(output_text) + 1))\n",
        "  target_seq[0, -1] = predicted_index\n",
        "\n",
        "\n",
        "  return output_text,target_seq"
      ],
      "metadata": {
        "id": "aA0coFa9HRQ4"
      },
      "execution_count": 124,
      "outputs": []
    },
    {
      "cell_type": "code",
      "source": [
        "text = \"I am go to mall\"\n",
        "input_seq = input_tokenizer.texts_to_sequences([text])\n",
        "#input_seq = input_tokenizer.texts_to_sequences(text)\n",
        "#input_seq_padded = pad_sequences(input_seq,150,padding=\"post\")\n",
        "#print(input_seq_padded)"
      ],
      "metadata": {
        "id": "IAaN6bjyJARf"
      },
      "execution_count": 125,
      "outputs": []
    },
    {
      "cell_type": "code",
      "source": [
        "input_seq"
      ],
      "metadata": {
        "colab": {
          "base_uri": "https://localhost:8080/"
        },
        "id": "VtpC_Ksywpoo",
        "outputId": "6c9e3244-ada0-4b63-bd1f-85f564b977a2"
      },
      "execution_count": 126,
      "outputs": [
        {
          "output_type": "execute_result",
          "data": {
            "text/plain": [
              "[[7, 2, 5, 16, 2, 19, 6, 2, 4, 6, 2, 16, 5, 11, 11]]"
            ]
          },
          "metadata": {},
          "execution_count": 126
        }
      ]
    },
    {
      "cell_type": "code",
      "source": [
        "input_seq_padded = pad_sequences(input_seq,150, padding='post')"
      ],
      "metadata": {
        "id": "ORGNf3pZwp0y"
      },
      "execution_count": 127,
      "outputs": []
    },
    {
      "cell_type": "code",
      "source": [
        "input_seq_padded"
      ],
      "metadata": {
        "colab": {
          "base_uri": "https://localhost:8080/"
        },
        "id": "CmJTWORIwp3e",
        "outputId": "39df7fe0-114e-44cf-e192-64b0cb325f0b"
      },
      "execution_count": 128,
      "outputs": [
        {
          "output_type": "execute_result",
          "data": {
            "text/plain": [
              "array([[ 7,  2,  5, 16,  2, 19,  6,  2,  4,  6,  2, 16,  5, 11, 11,  0,\n",
              "         0,  0,  0,  0,  0,  0,  0,  0,  0,  0,  0,  0,  0,  0,  0,  0,\n",
              "         0,  0,  0,  0,  0,  0,  0,  0,  0,  0,  0,  0,  0,  0,  0,  0,\n",
              "         0,  0,  0,  0,  0,  0,  0,  0,  0,  0,  0,  0,  0,  0,  0,  0,\n",
              "         0,  0,  0,  0,  0,  0,  0,  0,  0,  0,  0,  0,  0,  0,  0,  0,\n",
              "         0,  0,  0,  0,  0,  0,  0,  0,  0,  0,  0,  0,  0,  0,  0,  0,\n",
              "         0,  0,  0,  0,  0,  0,  0,  0,  0,  0,  0,  0,  0,  0,  0,  0,\n",
              "         0,  0,  0,  0,  0,  0,  0,  0,  0,  0,  0,  0,  0,  0,  0,  0,\n",
              "         0,  0,  0,  0,  0,  0,  0,  0,  0,  0,  0,  0,  0,  0,  0,  0,\n",
              "         0,  0,  0,  0,  0,  0]], dtype=int32)"
            ]
          },
          "metadata": {},
          "execution_count": 128
        }
      ]
    },
    {
      "cell_type": "code",
      "source": [],
      "metadata": {
        "id": "gADhfyjGwp65"
      },
      "execution_count": 128,
      "outputs": []
    },
    {
      "cell_type": "code",
      "source": [
        "target_seq = np.zeros((1, 1))\n",
        "target_seq[0, 0] = 0"
      ],
      "metadata": {
        "id": "6uveY14nJAOI"
      },
      "execution_count": 129,
      "outputs": []
    },
    {
      "cell_type": "code",
      "source": [
        "output_text = \"\""
      ],
      "metadata": {
        "id": "eEc_vXR2JAKf"
      },
      "execution_count": 130,
      "outputs": []
    },
    {
      "cell_type": "code",
      "source": [
        "op,target_seq = prediction(target_seq,input_seq_padded,output_text)"
      ],
      "metadata": {
        "colab": {
          "base_uri": "https://localhost:8080/"
        },
        "id": "EiQu7cvJJR32",
        "outputId": "d7e78180-a864-4579-c146-dd7b8624d943"
      },
      "execution_count": 131,
      "outputs": [
        {
          "output_type": "stream",
          "name": "stdout",
          "text": [
            "1/1 [==============================] - 0s 24ms/step\n",
            "o\n"
          ]
        }
      ]
    },
    {
      "cell_type": "code",
      "source": [
        "op"
      ],
      "metadata": {
        "colab": {
          "base_uri": "https://localhost:8080/",
          "height": 36
        },
        "id": "WEdiuFY9JWH2",
        "outputId": "9123cfea-dba0-4e76-e834-d914f3144e3f"
      },
      "execution_count": 132,
      "outputs": [
        {
          "output_type": "execute_result",
          "data": {
            "text/plain": [
              "'o'"
            ],
            "application/vnd.google.colaboratory.intrinsic+json": {
              "type": "string"
            }
          },
          "metadata": {},
          "execution_count": 132
        }
      ]
    },
    {
      "cell_type": "code",
      "source": [
        "op,target_seq = prediction(target_seq,input_seq_padded,op)"
      ],
      "metadata": {
        "colab": {
          "base_uri": "https://localhost:8080/"
        },
        "id": "YlDZDkpnJZHW",
        "outputId": "9f036686-75b9-4834-84b5-f1b56f852d63"
      },
      "execution_count": 133,
      "outputs": [
        {
          "output_type": "stream",
          "name": "stdout",
          "text": [
            "1/1 [==============================] - 0s 22ms/step\n",
            "op\n"
          ]
        }
      ]
    },
    {
      "cell_type": "code",
      "source": [
        "op"
      ],
      "metadata": {
        "colab": {
          "base_uri": "https://localhost:8080/",
          "height": 36
        },
        "id": "AXDlnn59JY6m",
        "outputId": "32c62dbd-5468-47ad-d352-b12fbec18d5e"
      },
      "execution_count": 134,
      "outputs": [
        {
          "output_type": "execute_result",
          "data": {
            "text/plain": [
              "'op'"
            ],
            "application/vnd.google.colaboratory.intrinsic+json": {
              "type": "string"
            }
          },
          "metadata": {},
          "execution_count": 134
        }
      ]
    },
    {
      "cell_type": "code",
      "source": [
        "op,target_seq = prediction(target_seq,input_seq_padded,op)"
      ],
      "metadata": {
        "colab": {
          "base_uri": "https://localhost:8080/"
        },
        "id": "7byBvRIPJe5w",
        "outputId": "a5ab5abd-37b2-4ca2-e1a9-4515ddfce1d3"
      },
      "execution_count": 135,
      "outputs": [
        {
          "output_type": "stream",
          "name": "stdout",
          "text": [
            "1/1 [==============================] - 0s 22ms/step\n",
            "opm\n"
          ]
        }
      ]
    },
    {
      "cell_type": "code",
      "source": [
        "op"
      ],
      "metadata": {
        "colab": {
          "base_uri": "https://localhost:8080/",
          "height": 36
        },
        "id": "0iDzm6eaJe12",
        "outputId": "274bf8b2-e619-4a8b-e03f-f1637f655f22"
      },
      "execution_count": 136,
      "outputs": [
        {
          "output_type": "execute_result",
          "data": {
            "text/plain": [
              "'opm'"
            ],
            "application/vnd.google.colaboratory.intrinsic+json": {
              "type": "string"
            }
          },
          "metadata": {},
          "execution_count": 136
        }
      ]
    },
    {
      "cell_type": "code",
      "source": [
        "op,target_seq = prediction(target_seq,input_seq_padded,op)"
      ],
      "metadata": {
        "colab": {
          "base_uri": "https://localhost:8080/"
        },
        "id": "fC727ZzUJlC6",
        "outputId": "51b360a9-d19d-4485-f012-9eac162c10e5"
      },
      "execution_count": 137,
      "outputs": [
        {
          "output_type": "stream",
          "name": "stdout",
          "text": [
            "1/1 [==============================] - 0s 23ms/step\n",
            "opmt\n"
          ]
        }
      ]
    },
    {
      "cell_type": "code",
      "source": [
        "op,target_seq = prediction(target_seq,input_seq_padded,op)"
      ],
      "metadata": {
        "colab": {
          "base_uri": "https://localhost:8080/"
        },
        "id": "OXXWEXFUJlBO",
        "outputId": "7906fe29-d59c-4e97-93cb-e54fb25bc6bf"
      },
      "execution_count": 138,
      "outputs": [
        {
          "output_type": "stream",
          "name": "stdout",
          "text": [
            "1/1 [==============================] - 0s 24ms/step\n",
            "opmtp\n"
          ]
        }
      ]
    },
    {
      "cell_type": "code",
      "source": [
        "op,target_seq = prediction(target_seq,input_seq_padded,op)"
      ],
      "metadata": {
        "colab": {
          "base_uri": "https://localhost:8080/"
        },
        "id": "ZnzN-Dv2Jk_M",
        "outputId": "cb08f329-42a3-4a09-d06e-87650a4b154a"
      },
      "execution_count": 139,
      "outputs": [
        {
          "output_type": "stream",
          "name": "stdout",
          "text": [
            "1/1 [==============================] - 0s 24ms/step\n",
            "opmtpm\n"
          ]
        }
      ]
    },
    {
      "cell_type": "code",
      "source": [],
      "metadata": {
        "id": "rhZWwYcKJk9T"
      },
      "execution_count": 139,
      "outputs": []
    },
    {
      "cell_type": "code",
      "source": [],
      "metadata": {
        "id": "SfYkeQEzJk69"
      },
      "execution_count": 139,
      "outputs": []
    },
    {
      "cell_type": "code",
      "source": [],
      "metadata": {
        "id": "GBunkEtUJk44"
      },
      "execution_count": 139,
      "outputs": []
    },
    {
      "cell_type": "code",
      "source": [],
      "metadata": {
        "id": "hpvLvg25Jk2m"
      },
      "execution_count": 139,
      "outputs": []
    },
    {
      "cell_type": "code",
      "source": [],
      "metadata": {
        "id": "NrmNVVHKJk0O"
      },
      "execution_count": 139,
      "outputs": []
    },
    {
      "cell_type": "code",
      "source": [],
      "metadata": {
        "id": "p3-khV-KJkyG"
      },
      "execution_count": 96,
      "outputs": []
    },
    {
      "cell_type": "code",
      "source": [
        "train_history.history"
      ],
      "metadata": {
        "id": "RVhg8rcsQofJ",
        "colab": {
          "base_uri": "https://localhost:8080/"
        },
        "outputId": "db4de8c0-d489-48be-d21f-cb337826a874"
      },
      "execution_count": 97,
      "outputs": [
        {
          "output_type": "execute_result",
          "data": {
            "text/plain": [
              "{'loss': [0.39188241958618164,\n",
              "  0.3728085458278656,\n",
              "  0.374147891998291,\n",
              "  0.37091049551963806,\n",
              "  0.36660367250442505,\n",
              "  0.36475488543510437,\n",
              "  0.3757789731025696,\n",
              "  0.3745099902153015,\n",
              "  0.3733845055103302,\n",
              "  0.36958929896354675,\n",
              "  0.3672294318675995,\n",
              "  0.36632782220840454,\n",
              "  0.3648698925971985,\n",
              "  0.36367785930633545,\n",
              "  0.3627353608608246,\n",
              "  0.3619135916233063,\n",
              "  0.36101436614990234,\n",
              "  0.3596368134021759,\n",
              "  0.35856080055236816,\n",
              "  0.35774707794189453],\n",
              " 'sparse_categorical_accuracy': [0.5928537845611572,\n",
              "  0.596184492111206,\n",
              "  0.595602810382843,\n",
              "  0.597770094871521,\n",
              "  0.6006249785423279,\n",
              "  0.6016967296600342,\n",
              "  0.5931044816970825,\n",
              "  0.5936586260795593,\n",
              "  0.594085693359375,\n",
              "  0.5969108939170837,\n",
              "  0.5981834530830383,\n",
              "  0.5987479090690613,\n",
              "  0.5993709564208984,\n",
              "  0.5998727083206177,\n",
              "  0.6003405451774597,\n",
              "  0.6010578274726868,\n",
              "  0.6018113493919373,\n",
              "  0.6027579307556152,\n",
              "  0.6035633683204651,\n",
              "  0.6042551398277283],\n",
              " 'val_loss': [0.37286120653152466,\n",
              "  0.3709792196750641,\n",
              "  0.3717940151691437,\n",
              "  0.3680357336997986,\n",
              "  0.3633384108543396,\n",
              "  0.3758091628551483,\n",
              "  0.37386512756347656,\n",
              "  0.37290114164352417,\n",
              "  0.37094277143478394,\n",
              "  0.36660173535346985,\n",
              "  0.36621424555778503,\n",
              "  0.36402180790901184,\n",
              "  0.3629567325115204,\n",
              "  0.36172327399253845,\n",
              "  0.36080026626586914,\n",
              "  0.36047807335853577,\n",
              "  0.35859033465385437,\n",
              "  0.35817939043045044,\n",
              "  0.35674479603767395,\n",
              "  0.3556368350982666],\n",
              " 'val_sparse_categorical_accuracy': [0.5959786772727966,\n",
              "  0.5964393019676208,\n",
              "  0.5960407853126526,\n",
              "  0.5995617508888245,\n",
              "  0.6021503210067749,\n",
              "  0.5927538275718689,\n",
              "  0.5935797095298767,\n",
              "  0.5940046310424805,\n",
              "  0.5951347947120667,\n",
              "  0.598330020904541,\n",
              "  0.5985332131385803,\n",
              "  0.5996543765068054,\n",
              "  0.6000735759735107,\n",
              "  0.6005718111991882,\n",
              "  0.601141095161438,\n",
              "  0.6015747785568237,\n",
              "  0.6028602123260498,\n",
              "  0.6031633615493774,\n",
              "  0.6043289303779602,\n",
              "  0.6052267551422119]}"
            ]
          },
          "metadata": {},
          "execution_count": 97
        }
      ]
    },
    {
      "cell_type": "code",
      "source": [
        "plt.plot(train_history.history[\"sparse_categorical_accuracy\"])\n",
        "plt.plot(train_history.history[\"val_sparse_categorical_accuracy\"])\n",
        "plt.show()"
      ],
      "metadata": {
        "id": "i4s1Vi5-Q1uR",
        "colab": {
          "base_uri": "https://localhost:8080/",
          "height": 430
        },
        "outputId": "826708a6-c2ea-4f4e-aa84-3e3826e6d46c"
      },
      "execution_count": 98,
      "outputs": [
        {
          "output_type": "display_data",
          "data": {
            "text/plain": [
              "<Figure size 640x480 with 1 Axes>"
            ],
            "image/png": "[encoded data removed]"
          },
          "metadata": {}
        }
      ]
    },
    {
      "cell_type": "code",
      "source": [
        "plt.plot(train_history.history[\"loss\"])\n",
        "plt.plot(train_history.history[\"val_loss\"])"
      ],
      "metadata": {
        "id": "RntYh7NAQ-qB",
        "colab": {
          "base_uri": "https://localhost:8080/",
          "height": 447
        },
        "outputId": "c51b580c-e23f-4f9d-e989-93eb45baecc6"
      },
      "execution_count": 99,
      "outputs": [
        {
          "output_type": "execute_result",
          "data": {
            "text/plain": [
              "[<matplotlib.lines.Line2D at 0x783448132950>]"
            ]
          },
          "metadata": {},
          "execution_count": 99
        },
        {
          "output_type": "display_data",
          "data": {
            "text/plain": [
              "<Figure size 640x480 with 1 Axes>"
            ],
            "image/png": "[encoded data removed]"
          },
          "metadata": {}
        }
      ]
    },
    {
      "cell_type": "code",
      "source": [],
      "metadata": {
        "id": "YI0ZmVn8YqGA"
      },
      "execution_count": 99,
      "outputs": []
    }
  ]
}